{
 "cells": [
  {
   "cell_type": "code",
   "execution_count": 3,
   "metadata": {},
   "outputs": [],
   "source": [
    "filesPath = \"/home/anil/Anil_Documents/01.02.BID_DATA/PySPark/Spark-The-Definitive-Guide-master/data\""
   ]
  },
  {
   "cell_type": "code",
   "execution_count": 4,
   "metadata": {},
   "outputs": [],
   "source": [
    "from pyspark.sql.functions import *\n",
    "from pyspark.sql.types import *"
   ]
  },
  {
   "cell_type": "code",
   "execution_count": 5,
   "metadata": {},
   "outputs": [],
   "source": [
    "df_sales = spark.read.format(\"csv\")\\\n",
    ".option(\"header\",\"true\")\\\n",
    ".option(\"schema\",\"true\")\\\n",
    ".load(filesPath + \"/retail-data/all/online-retail-dataset.csv\")\n",
    "\n"
   ]
  },
  {
   "cell_type": "code",
   "execution_count": 6,
   "metadata": {},
   "outputs": [],
   "source": [
    "spark.conf.set(\"spark.sql.shuffle.partitions\",30)"
   ]
  },
  {
   "cell_type": "code",
   "execution_count": 7,
   "metadata": {},
   "outputs": [
    {
     "name": "stdout",
     "output_type": "stream",
     "text": [
      "Column<b'InvoiceNo'>\n"
     ]
    }
   ],
   "source": [
    "print(df_sales.InvoiceNo)"
   ]
  },
  {
   "cell_type": "code",
   "execution_count": 8,
   "metadata": {},
   "outputs": [
    {
     "name": "stdout",
     "output_type": "stream",
     "text": [
      "+---------+---------+-----------------+--------+---------------+---------+----------+--------------+\n",
      "|InvoiceNo|StockCode|Description      |Quantity|InvoiceDate    |UnitPrice|CustomerID|Country       |\n",
      "+---------+---------+-----------------+--------+---------------+---------+----------+--------------+\n",
      "|554084   |23298    |BUNTING , SPOTTY |3       |5/22/2011 11:52|4.95     |12909     |United Kingdom|\n",
      "|554084   |23298    |SPOTTY BUNTING   |3       |5/22/2011 11:52|4.95     |12909     |United Kingdom|\n",
      "+---------+---------+-----------------+--------+---------------+---------+----------+--------------+\n",
      "\n"
     ]
    }
   ],
   "source": [
    "df_sales.where(expr(\"InvoiceNo = '554084' AND StockCode = '23298' \")).show(truncate=False)"
   ]
  },
  {
   "cell_type": "code",
   "execution_count": 7,
   "metadata": {},
   "outputs": [],
   "source": [
    "df_sales_agg = df_sales.groupBy(\"InvoiceNo\",\"StockCode\",\"Description\",\"CustomerID\",\"Country\")\\\n",
    ".agg(sum(\"Quantity\").alias(\"Sum_Quantity\"), avg(\"UnitPrice\").alias(\"Avg_UnitPrice\"),max(\"InvoiceDate\").alias(\"Max_InvDate\"))"
   ]
  },
  {
   "cell_type": "code",
   "execution_count": 8,
   "metadata": {},
   "outputs": [
    {
     "name": "stdout",
     "output_type": "stream",
     "text": [
      "+---------+---------+-----+\n",
      "|InvoiceNo|StockCode|count|\n",
      "+---------+---------+-----+\n",
      "|   575335|    23203|    2|\n",
      "|   554084|    23298|    2|\n",
      "+---------+---------+-----+\n",
      "\n"
     ]
    }
   ],
   "source": [
    "df_sales_agg.groupBy(\"InvoiceNo\",\"StockCode\").count()\\\n",
    ".where(\"count > 1\")\\\n",
    ".show()"
   ]
  },
  {
   "cell_type": "code",
   "execution_count": 9,
   "metadata": {},
   "outputs": [
    {
     "data": {
      "text/plain": [
       "531227"
      ]
     },
     "execution_count": 9,
     "metadata": {},
     "output_type": "execute_result"
    }
   ],
   "source": [
    "df_sales_agg.count()"
   ]
  },
  {
   "cell_type": "code",
   "execution_count": 10,
   "metadata": {},
   "outputs": [
    {
     "name": "stdout",
     "output_type": "stream",
     "text": [
      "== Physical Plan ==\n",
      "SortAggregate(key=[InvoiceNo#10, StockCode#11, Description#12, CustomerID#16, Country#17], functions=[sum(cast(Quantity#13 as double)), avg(cast(UnitPrice#15 as double)), max(InvoiceDate#14)])\n",
      "+- *(2) Sort [InvoiceNo#10 ASC NULLS FIRST, StockCode#11 ASC NULLS FIRST, Description#12 ASC NULLS FIRST, CustomerID#16 ASC NULLS FIRST, Country#17 ASC NULLS FIRST], false, 0\n",
      "   +- Exchange hashpartitioning(InvoiceNo#10, StockCode#11, Description#12, CustomerID#16, Country#17, 30)\n",
      "      +- SortAggregate(key=[InvoiceNo#10, StockCode#11, Description#12, CustomerID#16, Country#17], functions=[partial_sum(cast(Quantity#13 as double)), partial_avg(cast(UnitPrice#15 as double)), partial_max(InvoiceDate#14)])\n",
      "         +- *(1) Sort [InvoiceNo#10 ASC NULLS FIRST, StockCode#11 ASC NULLS FIRST, Description#12 ASC NULLS FIRST, CustomerID#16 ASC NULLS FIRST, Country#17 ASC NULLS FIRST], false, 0\n",
      "            +- *(1) FileScan csv [InvoiceNo#10,StockCode#11,Description#12,Quantity#13,InvoiceDate#14,UnitPrice#15,CustomerID#16,Country#17] Batched: false, Format: CSV, Location: InMemoryFileIndex[file:/home/anil/Anil_Documents/01.02.BID_DATA/PySPark/Spark-The-Definitive-Guid..., PartitionFilters: [], PushedFilters: [], ReadSchema: struct<InvoiceNo:string,StockCode:string,Description:string,Quantity:string,InvoiceDate:string,Un...\n"
     ]
    }
   ],
   "source": [
    "df_sales_agg.explain()"
   ]
  },
  {
   "cell_type": "code",
   "execution_count": 11,
   "metadata": {},
   "outputs": [
    {
     "data": {
      "text/plain": [
       "30"
      ]
     },
     "execution_count": 11,
     "metadata": {},
     "output_type": "execute_result"
    }
   ],
   "source": [
    "df_sales_agg.rdd.getNumPartitions()"
   ]
  },
  {
   "cell_type": "code",
   "execution_count": 12,
   "metadata": {},
   "outputs": [
    {
     "data": {
      "text/plain": [
       "2"
      ]
     },
     "execution_count": 12,
     "metadata": {},
     "output_type": "execute_result"
    }
   ],
   "source": [
    "df_sales.rdd.getNumPartitions()"
   ]
  },
  {
   "cell_type": "code",
   "execution_count": 13,
   "metadata": {},
   "outputs": [
    {
     "name": "stdout",
     "output_type": "stream",
     "text": [
      "+---------+---------+-----------------+--------+---------------+---------+----------+--------------+\n",
      "|InvoiceNo|StockCode|Description      |Quantity|InvoiceDate    |UnitPrice|CustomerID|Country       |\n",
      "+---------+---------+-----------------+--------+---------------+---------+----------+--------------+\n",
      "|554084   |23298    |BUNTING , SPOTTY |3       |5/22/2011 11:52|4.95     |12909     |United Kingdom|\n",
      "|554084   |23298    |SPOTTY BUNTING   |3       |5/22/2011 11:52|4.95     |12909     |United Kingdom|\n",
      "+---------+---------+-----------------+--------+---------------+---------+----------+--------------+\n",
      "\n"
     ]
    }
   ],
   "source": [
    "df_sales.where(expr(\"InvoiceNo = '554084' AND StockCode = '23298' \")).show(truncate=False)"
   ]
  },
  {
   "cell_type": "code",
   "execution_count": 14,
   "metadata": {},
   "outputs": [
    {
     "name": "stdout",
     "output_type": "stream",
     "text": [
      "+---------+---------+--------------------+--------+---------------+---------+----------+--------------+\n",
      "|InvoiceNo|StockCode|         Description|Quantity|    InvoiceDate|UnitPrice|CustomerID|       Country|\n",
      "+---------+---------+--------------------+--------+---------------+---------+----------+--------------+\n",
      "|   554084|    23102|SILVER HEARTS TAB...|      12|5/22/2011 11:52|     0.83|     12909|United Kingdom|\n",
      "|   554084|    23298|   BUNTING , SPOTTY |       3|5/22/2011 11:52|     4.95|     12909|United Kingdom|\n",
      "|   554084|    23254|KIDS CUTLERY DOLL...|       4|5/22/2011 11:52|     4.15|     12909|United Kingdom|\n",
      "|   554084|    22470|HEART OF WICKER L...|       6|5/22/2011 11:52|     2.95|     12909|United Kingdom|\n",
      "|   554084|    23191|BUNDLE OF 3 RETRO...|      12|5/22/2011 11:52|     1.65|     12909|United Kingdom|\n",
      "|   554084|    23204|CHARLOTTE BAG APP...|      10|5/22/2011 11:52|     0.85|     12909|United Kingdom|\n",
      "|   554084|    22469|HEART OF WICKER S...|      12|5/22/2011 11:52|     1.65|     12909|United Kingdom|\n",
      "|   554084|    23256|KIDS CUTLERY SPAC...|       4|5/22/2011 11:52|     4.15|     12909|United Kingdom|\n",
      "|   554084|    23100|SILVER BELLS TABL...|      12|5/22/2011 11:52|     1.25|     12909|United Kingdom|\n",
      "|   554084|    23203|JUMBO BAG DOILEY ...|      10|5/22/2011 11:52|     1.95|     12909|United Kingdom|\n",
      "|   554084|    85066|CREAM SWEETHEART ...|       2|5/22/2011 11:52|    12.75|     12909|United Kingdom|\n",
      "|   554084|    22827|RUSTIC  SEVENTEEN...|       2|5/22/2011 11:52|      145|     12909|United Kingdom|\n",
      "|   554084|    21735|TWO DOOR CURIO CA...|       2|5/22/2011 11:52|    12.75|     12909|United Kingdom|\n",
      "|   554084|   84970L|SINGLE HEART ZINC...|      12|5/22/2011 11:52|     0.95|     12909|United Kingdom|\n",
      "|   554084|    22356|CHARLOTTE BAG PIN...|      10|5/22/2011 11:52|     0.85|     12909|United Kingdom|\n",
      "|   554084|    20724|RED RETROSPOT CHA...|      10|5/22/2011 11:52|     0.85|     12909|United Kingdom|\n",
      "|   554084|   85099B|JUMBO BAG RED RET...|      10|5/22/2011 11:52|     2.08|     12909|United Kingdom|\n",
      "|   554084|    22423|REGENCY CAKESTAND...|       2|5/22/2011 11:52|    12.75|     12909|United Kingdom|\n",
      "|   554084|    21212|PACK OF 72 RETROS...|      24|5/22/2011 11:52|     0.55|     12909|United Kingdom|\n",
      "|   554084|    21985|PACK OF 12 HEARTS...|      24|5/22/2011 11:52|     0.29|     12909|United Kingdom|\n",
      "+---------+---------+--------------------+--------+---------------+---------+----------+--------------+\n",
      "only showing top 20 rows\n",
      "\n"
     ]
    }
   ],
   "source": [
    "df_sales.where(df_sales.InvoiceNo == '554084').show()"
   ]
  },
  {
   "cell_type": "code",
   "execution_count": 15,
   "metadata": {},
   "outputs": [
    {
     "name": "stdout",
     "output_type": "stream",
     "text": [
      "+---------+--------------+--------------+-------------+\n",
      "|StockCode|       Country|max(UnitPrice)|sum(Quantity)|\n",
      "+---------+--------------+--------------+-------------+\n",
      "|    10133|        Canada|          0.85|         40.0|\n",
      "|    10135|          EIRE|          0.42|         60.0|\n",
      "|   15044A|United Kingdom|          5.79|        427.0|\n",
      "|  15056BL|       Finland|          5.95|          3.0|\n",
      "|   15056N|        France|          5.95|         51.0|\n",
      "|   15058A|        Norway|          7.95|          6.0|\n",
      "|   15058B|       Germany|          7.95|          2.0|\n",
      "|   16156S|       Belgium|          0.42|         25.0|\n",
      "|    16225|United Kingdom|          3.36|        785.0|\n",
      "|    16236|       Germany|          0.21|         56.0|\n",
      "|   16258A|       Germany|          0.42|          4.0|\n",
      "|    17003|       Germany|          0.39|        180.0|\n",
      "|   17084R|United Kingdom|          0.21|       2592.0|\n",
      "|    20654|        Cyprus|          1.25|         12.0|\n",
      "|    20658|        Cyprus|          1.25|         12.0|\n",
      "|    20658|      Portugal|          1.25|         27.0|\n",
      "|    20668|United Kingdom|          0.43|      12763.0|\n",
      "|    20674|           USA|          1.25|         16.0|\n",
      "|    20675|        Cyprus|          1.25|          2.0|\n",
      "|    20676|      Portugal|          1.25|          5.0|\n",
      "+---------+--------------+--------------+-------------+\n",
      "only showing top 20 rows\n",
      "\n"
     ]
    }
   ],
   "source": [
    "df_sales.groupBy(df_sales.StockCode,\"Country\").agg({\"Quantity\":\"sum\",\"UnitPrice\":\"max\"}).show()"
   ]
  },
  {
   "cell_type": "code",
   "execution_count": 16,
   "metadata": {},
   "outputs": [
    {
     "name": "stdout",
     "output_type": "stream",
     "text": [
      "+-------------+\n",
      "|sum(Quantity)|\n",
      "+-------------+\n",
      "|    5176450.0|\n",
      "+-------------+\n",
      "\n"
     ]
    }
   ],
   "source": [
    "df_sales.agg(sum(\"Quantity\")).show()"
   ]
  },
  {
   "cell_type": "code",
   "execution_count": 17,
   "metadata": {},
   "outputs": [],
   "source": [
    "df = spark.createDataFrame([(\"a\", 1), (\"b\", 2), (\"c\",  3)], [\"Col1\", \"Col2\"])"
   ]
  },
  {
   "cell_type": "code",
   "execution_count": 18,
   "metadata": {},
   "outputs": [
    {
     "name": "stdout",
     "output_type": "stream",
     "text": [
      "+----+\n",
      "|Col1|\n",
      "+----+\n",
      "|   a|\n",
      "|   b|\n",
      "|   c|\n",
      "+----+\n",
      "\n"
     ]
    }
   ],
   "source": [
    "df.select(df.colRegex(\"`(Col2)?+.+`\")).show()"
   ]
  },
  {
   "cell_type": "code",
   "execution_count": 19,
   "metadata": {},
   "outputs": [
    {
     "data": {
      "text/plain": [
       "['Col1', 'Col2']"
      ]
     },
     "execution_count": 19,
     "metadata": {},
     "output_type": "execute_result"
    }
   ],
   "source": [
    "df.columns"
   ]
  },
  {
   "cell_type": "code",
   "execution_count": 11,
   "metadata": {},
   "outputs": [],
   "source": [
    "df_sales.createOrReplaceTempView(\"df_sales\")"
   ]
  },
  {
   "cell_type": "code",
   "execution_count": 12,
   "metadata": {},
   "outputs": [
    {
     "name": "stdout",
     "output_type": "stream",
     "text": [
      "+------------+\n",
      "|databaseName|\n",
      "+------------+\n",
      "|   anil_test|\n",
      "|     default|\n",
      "|     some_db|\n",
      "+------------+\n",
      "\n"
     ]
    }
   ],
   "source": [
    "spark.sql(\"show databases\").show()"
   ]
  },
  {
   "cell_type": "code",
   "execution_count": 13,
   "metadata": {},
   "outputs": [
    {
     "name": "stdout",
     "output_type": "stream",
     "text": [
      "+--------+-------------------+-----------+\n",
      "|database|          tableName|isTemporary|\n",
      "+--------+-------------------+-----------+\n",
      "| default|      bucketedfiles|      false|\n",
      "| default| flight_from_select|      false|\n",
      "| default|            flights|      false|\n",
      "| default|       hive_flights|      false|\n",
      "| default|     hive_flights_2|      false|\n",
      "| default|      just_usa_view|      false|\n",
      "| default|          list_view|      false|\n",
      "| default|        nested_data|      false|\n",
      "| default|partitioned_flights|      false|\n",
      "|        |           df_sales|       true|\n",
      "+--------+-------------------+-----------+\n",
      "\n"
     ]
    }
   ],
   "source": [
    "spark.sql(\"show tables\").show()"
   ]
  },
  {
   "cell_type": "code",
   "execution_count": 14,
   "metadata": {},
   "outputs": [
    {
     "name": "stdout",
     "output_type": "stream",
     "text": [
      "+---------+---------+--------------------+--------+--------------+---------+----------+--------------+\n",
      "|InvoiceNo|StockCode|         Description|Quantity|   InvoiceDate|UnitPrice|CustomerID|       Country|\n",
      "+---------+---------+--------------------+--------+--------------+---------+----------+--------------+\n",
      "|   536365|   85123A|WHITE HANGING HEA...|       6|12/1/2010 8:26|     2.55|     17850|United Kingdom|\n",
      "|   536365|    71053| WHITE METAL LANTERN|       6|12/1/2010 8:26|     3.39|     17850|United Kingdom|\n",
      "|   536365|   84406B|CREAM CUPID HEART...|       8|12/1/2010 8:26|     2.75|     17850|United Kingdom|\n",
      "|   536365|   84029G|KNITTED UNION FLA...|       6|12/1/2010 8:26|     3.39|     17850|United Kingdom|\n",
      "+---------+---------+--------------------+--------+--------------+---------+----------+--------------+\n",
      "only showing top 4 rows\n",
      "\n"
     ]
    }
   ],
   "source": [
    "#spark.catalog.dropGlobalTempView(\"dfSales\")\n",
    "\n",
    "spark.sql(\"Select * from df_sales\").show(4)"
   ]
  },
  {
   "cell_type": "markdown",
   "metadata": {},
   "source": [
    "# Person data"
   ]
  },
  {
   "cell_type": "code",
   "execution_count": 9,
   "metadata": {},
   "outputs": [],
   "source": [
    "person = spark.createDataFrame([\n",
    "(0, \"Bill Chambers\", 0, [100]),\n",
    "(1, \"Matei Zaharia\", 1, [500, 250, 100]),\n",
    "(2, \"Michael Armbrust\", 1, [250, 100])])\\\n",
    ".toDF(\"id\", \"name\", \"graduate_program\", \"spark_status\")\n"
   ]
  },
  {
   "cell_type": "code",
   "execution_count": 10,
   "metadata": {},
   "outputs": [],
   "source": [
    "graduateProgram = spark.createDataFrame([\n",
    "(0, \"Masters\", \"School of Information\", \"UC Berkeley\"),\n",
    "(2, \"Masters\", \"EECS\", \"UC Berkeley\"),\n",
    "(1, \"Ph.D.\", \"EECS\", \"UC Berkeley\")])\\\n",
    ".toDF(\"graduate_program\", \"degree\", \"department\", \"school\")\n"
   ]
  },
  {
   "cell_type": "code",
   "execution_count": 11,
   "metadata": {},
   "outputs": [],
   "source": [
    "sparkStatus = spark.createDataFrame([\n",
    "(500, \"Vice President\"),\n",
    "(250, \"PMC Member\"),\n",
    "(100, \"Contributor\")])\\\n",
    ".toDF(\"id\", \"status\")"
   ]
  },
  {
   "cell_type": "code",
   "execution_count": 12,
   "metadata": {},
   "outputs": [
    {
     "name": "stdout",
     "output_type": "stream",
     "text": [
      "+---+----------------+----------------+---------------+----------------+-------+--------------------+-----------+\n",
      "| id|            name|graduate_program|   spark_status|graduate_program| degree|          department|     school|\n",
      "+---+----------------+----------------+---------------+----------------+-------+--------------------+-----------+\n",
      "|  0|   Bill Chambers|               0|          [100]|               0|Masters|School of Informa...|UC Berkeley|\n",
      "|  1|   Matei Zaharia|               1|[500, 250, 100]|               1|  Ph.D.|                EECS|UC Berkeley|\n",
      "|  2|Michael Armbrust|               1|     [250, 100]|               1|  Ph.D.|                EECS|UC Berkeley|\n",
      "+---+----------------+----------------+---------------+----------------+-------+--------------------+-----------+\n",
      "\n"
     ]
    }
   ],
   "source": [
    "person.join(graduateProgram, person.graduate_program == graduateProgram.graduate_program).show()"
   ]
  },
  {
   "cell_type": "code",
   "execution_count": 13,
   "metadata": {},
   "outputs": [
    {
     "name": "stdout",
     "output_type": "stream",
     "text": [
      "+---+----------------+----------------+---------------+----------------+-------+--------------------+-----------+\n",
      "| id|            name|graduate_program|   spark_status|graduate_program| degree|          department|     school|\n",
      "+---+----------------+----------------+---------------+----------------+-------+--------------------+-----------+\n",
      "|  0|   Bill Chambers|               0|          [100]|               0|Masters|School of Informa...|UC Berkeley|\n",
      "|  1|   Matei Zaharia|               1|[500, 250, 100]|               1|  Ph.D.|                EECS|UC Berkeley|\n",
      "|  2|Michael Armbrust|               1|     [250, 100]|               1|  Ph.D.|                EECS|UC Berkeley|\n",
      "+---+----------------+----------------+---------------+----------------+-------+--------------------+-----------+\n",
      "\n"
     ]
    }
   ],
   "source": [
    "#or\n",
    "person.join(graduateProgram, person[\"graduate_program\"] == graduateProgram[\"graduate_program\"]).show()"
   ]
  },
  {
   "cell_type": "code",
   "execution_count": 14,
   "metadata": {},
   "outputs": [
    {
     "name": "stdout",
     "output_type": "stream",
     "text": [
      "+---+----------------+----------------+---------------+--------------------+\n",
      "| id|            name|graduate_program|   spark_status|          department|\n",
      "+---+----------------+----------------+---------------+--------------------+\n",
      "|  0|   Bill Chambers|               0|          [100]|School of Informa...|\n",
      "|  0|   Bill Chambers|               0|          [100]|                EECS|\n",
      "|  0|   Bill Chambers|               0|          [100]|                EECS|\n",
      "|  1|   Matei Zaharia|               1|[500, 250, 100]|School of Informa...|\n",
      "|  2|Michael Armbrust|               1|     [250, 100]|School of Informa...|\n",
      "|  1|   Matei Zaharia|               1|[500, 250, 100]|                EECS|\n",
      "|  1|   Matei Zaharia|               1|[500, 250, 100]|                EECS|\n",
      "|  2|Michael Armbrust|               1|     [250, 100]|                EECS|\n",
      "|  2|Michael Armbrust|               1|     [250, 100]|                EECS|\n",
      "+---+----------------+----------------+---------------+--------------------+\n",
      "\n"
     ]
    }
   ],
   "source": [
    "person.crossJoin(graduateProgram.select(\"department\")).show()"
   ]
  },
  {
   "cell_type": "code",
   "execution_count": 45,
   "metadata": {},
   "outputs": [
    {
     "name": "stdout",
     "output_type": "stream",
     "text": [
      "+---+----------------+----------------+---------------+--------------------+----------------+\n",
      "| id|            name|graduate_program|   spark_status|          department|graduate_program|\n",
      "+---+----------------+----------------+---------------+--------------------+----------------+\n",
      "|  0|   Bill Chambers|               0|          [100]|School of Informa...|               0|\n",
      "|  1|   Matei Zaharia|               1|[500, 250, 100]|                EECS|               1|\n",
      "|  2|Michael Armbrust|               1|     [250, 100]|                EECS|               1|\n",
      "+---+----------------+----------------+---------------+--------------------+----------------+\n",
      "\n"
     ]
    }
   ],
   "source": [
    " person.join(graduateProgram.select(\"department\",\"graduate_program\"), person[\"graduate_program\"] == graduateProgram[\"graduate_program\"]).show()"
   ]
  },
  {
   "cell_type": "code",
   "execution_count": 53,
   "metadata": {},
   "outputs": [
    {
     "name": "stdout",
     "output_type": "stream",
     "text": [
      "+------------------+---------+-------+-------+-------+------+------+---------------+------+--------------+-------+----+------------------+-------+------+-------+------+---------+-------+------+-----+-----+-------+---------+-----+-----------+------+------+--------+---+------------+---------+-----+------+-----------+---+--------------------+--------------+-----------+\n",
      "|CustomerID_Country|Australia|Austria|Bahrain|Belgium|Brazil|Canada|Channel Islands|Cyprus|Czech Republic|Denmark|EIRE|European Community|Finland|France|Germany|Greece|Hong Kong|Iceland|Israel|Italy|Japan|Lebanon|Lithuania|Malta|Netherlands|Norway|Poland|Portugal|RSA|Saudi Arabia|Singapore|Spain|Sweden|Switzerland|USA|United Arab Emirates|United Kingdom|Unspecified|\n",
      "+------------------+---------+-------+-------+-------+------+------+---------------+------+--------------+-------+----+------------------+-------+------+-------+------+---------+-------+------+-----+-----+-------+---------+-----+-----------+------+------+--------+---+------------+---------+-----+------+-----------+---+--------------------+--------------+-----------+\n",
      "|             17079|        0|      0|      0|      0|     0|     0|              0|     0|             0|      0|   0|                 0|      0|     0|      0|     0|        0|      0|     0|    0|    0|      0|        0|    0|          0|     0|     0|       0|  0|           0|        0|    0|     0|          0|  0|                   0|             2|          0|\n",
      "|             16997|        0|      0|      0|      0|     0|     0|              0|     0|             0|      0|   0|                 0|      0|     0|      0|     0|        0|      0|     0|    0|    0|      0|        0|    0|          0|     0|     0|       0|  0|           0|        0|    0|     0|          0|  0|                   0|            12|          0|\n",
      "|             14779|        0|      0|      0|      0|     0|     0|              0|     0|             0|      0|   0|                 0|      0|     0|      0|     0|        0|      0|     0|    0|    0|      0|        0|    0|          0|     0|     0|       0|  0|           0|        0|    0|     0|          0|  0|                   0|            41|          0|\n",
      "|             15822|        0|      0|      0|      0|     0|     0|              0|     0|             0|      0|   0|                 0|      0|     0|      0|     0|        0|      0|     0|    0|    0|      0|        0|    0|          0|     0|     0|       0|  0|           0|        0|    0|     0|          0|  0|                   0|            33|          0|\n",
      "|             15469|        0|      0|      0|      0|     0|     0|              0|     0|             0|      0|   0|                 0|      0|     0|      0|     0|        0|      0|     0|    0|    0|      0|        0|    0|          0|     0|     0|       0|  0|           0|        0|    0|     0|          0|  0|                   0|            27|          0|\n",
      "|             16065|        0|      0|      0|      0|     0|     0|              0|     0|             0|      0|   0|                 0|      0|     0|      0|     0|        0|      0|     0|    0|    0|      0|        0|    0|          0|     0|     0|       0|  0|           0|        0|    0|     0|          0|  0|                   0|            74|          0|\n",
      "|             12489|        0|      0|      0|      0|     0|     0|              0|     0|             0|      0|   0|                 0|      0|    15|      0|     0|        0|      0|     0|    0|    0|      0|        0|    0|          0|     0|     0|       0|  0|           0|        0|    0|     0|          0|  0|                   0|             0|          0|\n",
      "|             17254|        0|      0|      0|      0|     0|     0|              0|     0|             0|      0|   0|                 0|      0|     0|      0|     0|        0|      0|     0|    0|    0|      0|        0|    0|          0|     0|     0|       0|  0|           0|        0|    0|     0|          0|  0|                   0|           112|          0|\n",
      "|             16217|        0|      0|      0|      0|     0|     0|              0|     0|             0|      0|   0|                 0|      0|     0|      0|     0|        0|      0|     0|    0|    0|      0|        0|    0|          0|     0|     0|       0|  0|           0|        0|    0|     0|          0|  0|                   0|            19|          0|\n",
      "|             14078|        0|      0|      0|      0|     0|     0|              0|     0|             0|      0|   0|                 0|      0|     0|      0|     0|        0|      0|     0|    0|    0|      0|        0|    0|          0|     0|     0|       0|  0|           0|        0|    0|     0|          0|  0|                   0|            65|          0|\n",
      "|             14820|        0|      0|      0|      0|     0|     0|              0|     0|             0|      0|   0|                 0|      0|     0|      0|     0|        0|      0|     0|    0|    0|      0|        0|    0|          0|     0|     0|       0|  0|           0|        0|    0|     0|          0|  0|                   0|            29|          0|\n",
      "|             13711|        0|      0|      0|      0|     0|     0|              0|     0|             0|      0|   0|                 0|      0|     0|      0|     0|        0|      0|     0|    0|    0|      0|        0|    0|          0|     0|     0|       0|  0|           0|        0|    0|     0|          0|  0|                   0|            13|          0|\n",
      "|             18116|        0|      0|      0|      0|     0|     0|              0|     0|             0|      0|   0|                 0|      0|     0|      0|     0|        0|      0|     0|    0|    0|      0|        0|    0|          0|     0|     0|       0|  0|           0|        0|    0|     0|          0|  0|                   0|           378|          0|\n",
      "|             14448|        0|      0|      0|      0|     0|     0|              0|     0|             0|      0|   0|                 0|      0|     0|      0|     0|        0|      0|     0|    0|    0|      0|        0|    0|          0|     0|     0|       0|  0|           0|        0|    0|     0|          0|  0|                   0|            20|          0|\n",
      "|             16846|        0|      0|      0|      0|     0|     0|              0|     0|             0|      0|   0|                 0|      0|     0|      0|     0|        0|      0|     0|    0|    0|      0|        0|    0|          0|     0|     0|       0|  0|           0|        0|    0|     0|          0|  0|                   0|            11|          0|\n",
      "|             13521|        0|      0|      0|      0|     0|     0|              0|     0|             0|      0|   0|                 0|      0|     0|      0|     0|        0|      0|     0|    0|    0|      0|        0|    0|          0|     0|     0|       0|  0|           0|        0|    0|     0|          0|  0|                   0|           436|          0|\n",
      "|             13069|        0|      0|      0|      0|     0|     0|              0|     0|             0|      0|   0|                 0|      0|     0|      0|     0|        0|      0|     0|    0|    0|      0|        0|    0|          0|     0|     0|       0|  0|           0|        0|    0|     0|          0|  0|                   0|           470|          0|\n",
      "|             13447|        0|      0|      0|      0|     0|     0|              0|     0|             0|      0|   0|                 0|      0|     0|      0|     0|        0|      0|     0|    0|    0|      0|        0|    0|          0|     0|     0|       0|  0|           0|        0|    0|     0|          0|  0|                   0|            62|          0|\n",
      "|             14548|        0|      0|      0|      0|     0|     0|              0|     0|             0|      0|   0|                 0|      0|     0|      0|     0|        0|      0|     0|    0|    0|      0|        0|    0|          0|     0|     0|       0|  0|           0|        0|    0|     0|          0|  0|                   0|             4|          0|\n",
      "|             14030|        0|      0|      0|      0|     0|     0|              0|     0|             0|      0|   0|                 0|      0|     0|      0|     0|        0|      0|     0|    0|    0|      0|        0|    0|          0|     0|     0|       0|  0|           0|        0|    0|     0|          0|  0|                   0|           243|          0|\n",
      "+------------------+---------+-------+-------+-------+------+------+---------------+------+--------------+-------+----+------------------+-------+------+-------+------+---------+-------+------+-----+-----+-------+---------+-----+-----------+------+------+--------+---+------------+---------+-----+------+-----------+---+--------------------+--------------+-----------+\n",
      "only showing top 20 rows\n",
      "\n"
     ]
    }
   ],
   "source": [
    "df_sales.select(\"CustomerID\",\"Country\")\\\n",
    ".crosstab(\"CustomerID\",\"Country\").show()"
   ]
  },
  {
   "cell_type": "code",
   "execution_count": 59,
   "metadata": {},
   "outputs": [
    {
     "name": "stdout",
     "output_type": "stream",
     "text": [
      "+----------+--------------+-------------+\n",
      "|CustomerID|       Country|sum(Quantity)|\n",
      "+----------+--------------+-------------+\n",
      "|     12363|   Unspecified|        408.0|\n",
      "|     14265|   Unspecified|        330.0|\n",
      "|     12743|   Unspecified|        319.0|\n",
      "|     16320|   Unspecified|        732.0|\n",
      "|      null|   Unspecified|       1511.0|\n",
      "|      null|   Unspecified|       3300.0|\n",
      "|     14798|United Kingdom|        150.0|\n",
      "|     13158|United Kingdom|        784.0|\n",
      "|     14779|United Kingdom|         84.0|\n",
      "|     13004|United Kingdom|       4796.0|\n",
      "|     16618|United Kingdom|       1362.0|\n",
      "|     16904|United Kingdom|       2034.0|\n",
      "|     17094|United Kingdom|        148.0|\n",
      "|     14048|United Kingdom|        274.0|\n",
      "|     17262|United Kingdom|        367.0|\n",
      "|     18277|United Kingdom|         67.0|\n",
      "|     17978|United Kingdom|        499.0|\n",
      "|     14659|United Kingdom|       1183.0|\n",
      "|     18016|United Kingdom|       1029.0|\n",
      "|     13939|United Kingdom|        843.0|\n",
      "+----------+--------------+-------------+\n",
      "only showing top 20 rows\n",
      "\n"
     ]
    }
   ],
   "source": [
    "df_sales.cube(\"CustomerID\",\"Country\").agg(sum(\"Quantity\")).orderBy(desc_nulls_last(\"Country\")).show(20)"
   ]
  },
  {
   "cell_type": "code",
   "execution_count": 62,
   "metadata": {},
   "outputs": [
    {
     "name": "stdout",
     "output_type": "stream",
     "text": [
      "+-------+------------------+\n",
      "|summary|          Quantity|\n",
      "+-------+------------------+\n",
      "|  count|            541909|\n",
      "|   mean|  9.55224954743324|\n",
      "| stddev|218.08115785023486|\n",
      "|    min|                -1|\n",
      "|    max|               992|\n",
      "+-------+------------------+\n",
      "\n"
     ]
    }
   ],
   "source": [
    "df_sales.describe(\"Quantity\").show()"
   ]
  },
  {
   "cell_type": "code",
   "execution_count": 16,
   "metadata": {},
   "outputs": [
    {
     "name": "stdout",
     "output_type": "stream",
     "text": [
      "+---+----------------+----------------+---------------+\n",
      "| id|            name|graduate_program|   spark_status|\n",
      "+---+----------------+----------------+---------------+\n",
      "|  2|Michael Armbrust|               1|     [250, 100]|\n",
      "|  1|   Matei Zaharia|               1|[500, 250, 100]|\n",
      "|  0|   Bill Chambers|               0|          [100]|\n",
      "+---+----------------+----------------+---------------+\n",
      "\n"
     ]
    }
   ],
   "source": [
    "person.distinct().show()"
   ]
  },
  {
   "cell_type": "code",
   "execution_count": 19,
   "metadata": {},
   "outputs": [
    {
     "name": "stdout",
     "output_type": "stream",
     "text": [
      "+----------------+----------------+---------------+----------------+-------+--------------------+-----------+\n",
      "|            name|graduate_program|   spark_status|graduate_program| degree|          department|     school|\n",
      "+----------------+----------------+---------------+----------------+-------+--------------------+-----------+\n",
      "|   Bill Chambers|               0|          [100]|               0|Masters|School of Informa...|UC Berkeley|\n",
      "|   Matei Zaharia|               1|[500, 250, 100]|               1|  Ph.D.|                EECS|UC Berkeley|\n",
      "|Michael Armbrust|               1|     [250, 100]|               1|  Ph.D.|                EECS|UC Berkeley|\n",
      "+----------------+----------------+---------------+----------------+-------+--------------------+-----------+\n",
      "\n"
     ]
    }
   ],
   "source": [
    "person.join(graduateProgram, person.graduate_program == graduateProgram.graduate_program)\\\n",
    ".drop(person.id)\\\n",
    ".show()"
   ]
  },
  {
   "cell_type": "code",
   "execution_count": 24,
   "metadata": {},
   "outputs": [
    {
     "name": "stdout",
     "output_type": "stream",
     "text": [
      "+----------------+-------+--------------------+-----------+\n",
      "|graduate_program| degree|          department|     school|\n",
      "+----------------+-------+--------------------+-----------+\n",
      "|               1|  Ph.D.|                EECS|UC Berkeley|\n",
      "|               0|Masters|School of Informa...|UC Berkeley|\n",
      "+----------------+-------+--------------------+-----------+\n",
      "\n"
     ]
    }
   ],
   "source": [
    "graduateProgram\\\n",
    ".drop_duplicates([\"degree\",\"school\"])\\\n",
    ".show()"
   ]
  },
  {
   "cell_type": "code",
   "execution_count": 26,
   "metadata": {},
   "outputs": [
    {
     "data": {
      "text/plain": [
       "406829"
      ]
     },
     "execution_count": 26,
     "metadata": {},
     "output_type": "execute_result"
    }
   ],
   "source": [
    "df_sales.dropna().count()"
   ]
  },
  {
   "cell_type": "code",
   "execution_count": 27,
   "metadata": {},
   "outputs": [
    {
     "data": {
      "text/plain": [
       "541909"
      ]
     },
     "execution_count": 27,
     "metadata": {},
     "output_type": "execute_result"
    }
   ],
   "source": [
    "df_sales.count()"
   ]
  },
  {
   "cell_type": "code",
   "execution_count": 29,
   "metadata": {},
   "outputs": [
    {
     "data": {
      "text/plain": [
       "406829"
      ]
     },
     "execution_count": 29,
     "metadata": {},
     "output_type": "execute_result"
    }
   ],
   "source": [
    "df_sales.dropna(\"any\").count()"
   ]
  },
  {
   "cell_type": "code",
   "execution_count": 30,
   "metadata": {},
   "outputs": [
    {
     "data": {
      "text/plain": [
       "541909"
      ]
     },
     "execution_count": 30,
     "metadata": {},
     "output_type": "execute_result"
    }
   ],
   "source": [
    "df_sales.dropna(\"all\").count()"
   ]
  },
  {
   "cell_type": "code",
   "execution_count": 37,
   "metadata": {},
   "outputs": [
    {
     "data": {
      "text/plain": [
       "406829"
      ]
     },
     "execution_count": 37,
     "metadata": {},
     "output_type": "execute_result"
    }
   ],
   "source": [
    "df_sales.dropna(subset=['CustomerID']).count()"
   ]
  },
  {
   "cell_type": "code",
   "execution_count": 38,
   "metadata": {},
   "outputs": [
    {
     "data": {
      "text/plain": [
       "[('InvoiceNo', 'string'),\n",
       " ('StockCode', 'string'),\n",
       " ('Description', 'string'),\n",
       " ('Quantity', 'string'),\n",
       " ('InvoiceDate', 'string'),\n",
       " ('UnitPrice', 'string'),\n",
       " ('CustomerID', 'string'),\n",
       " ('Country', 'string')]"
      ]
     },
     "execution_count": 38,
     "metadata": {},
     "output_type": "execute_result"
    }
   ],
   "source": [
    "df_sales.dtypes"
   ]
  },
  {
   "cell_type": "code",
   "execution_count": 39,
   "metadata": {},
   "outputs": [],
   "source": [
    "df1 = spark.createDataFrame([(\"a\", 1), (\"a\", 1), (\"a\", 1), (\"a\", 2), (\"b\",  3), (\"c\", 4)], [\"C1\", \"C2\"])\n",
    "df2 = spark.createDataFrame([(\"a\", 1), (\"b\", 3)], [\"C1\", \"C2\"])"
   ]
  },
  {
   "cell_type": "code",
   "execution_count": 41,
   "metadata": {},
   "outputs": [
    {
     "name": "stdout",
     "output_type": "stream",
     "text": [
      "+---+---+\n",
      "| C1| C2|\n",
      "+---+---+\n",
      "|  a|  1|\n",
      "|  a|  1|\n",
      "|  c|  4|\n",
      "|  a|  2|\n",
      "+---+---+\n",
      "\n"
     ]
    }
   ],
   "source": [
    "df1.exceptAll(df2).show()"
   ]
  },
  {
   "cell_type": "code",
   "execution_count": 47,
   "metadata": {},
   "outputs": [
    {
     "name": "stdout",
     "output_type": "stream",
     "text": [
      "+---------+---------+--------------------+--------+---------------+---------+----------+--------------+\n",
      "|InvoiceNo|StockCode|         Description|Quantity|    InvoiceDate|UnitPrice|CustomerID|       Country|\n",
      "+---------+---------+--------------------+--------+---------------+---------+----------+--------------+\n",
      "|   536414|    22139|                  NA|      56|12/1/2010 11:52|        0|        NA|United Kingdom|\n",
      "|   536544|    21773|DECORATIVE ROSE B...|       1|12/1/2010 14:32|     2.51|        NA|United Kingdom|\n",
      "|   536544|    21774|DECORATIVE CATS B...|       2|12/1/2010 14:32|     2.51|        NA|United Kingdom|\n",
      "|   536544|    21786|  POLKADOT RAIN HAT |       4|12/1/2010 14:32|     0.85|        NA|United Kingdom|\n",
      "|   536544|    21787|RAIN PONCHO RETRO...|       2|12/1/2010 14:32|     1.66|        NA|United Kingdom|\n",
      "|   536544|    21790|  VINTAGE SNAP CARDS|       9|12/1/2010 14:32|     1.66|        NA|United Kingdom|\n",
      "|   536544|    21791|VINTAGE HEADS AND...|       2|12/1/2010 14:32|     2.51|        NA|United Kingdom|\n",
      "|   536544|    21801|CHRISTMAS TREE DE...|      10|12/1/2010 14:32|     0.43|        NA|United Kingdom|\n",
      "|   536544|    21802|CHRISTMAS TREE HE...|       9|12/1/2010 14:32|     0.43|        NA|United Kingdom|\n",
      "|   536544|    21803|CHRISTMAS TREE ST...|      11|12/1/2010 14:32|     0.43|        NA|United Kingdom|\n",
      "+---------+---------+--------------------+--------+---------------+---------+----------+--------------+\n",
      "only showing top 10 rows\n",
      "\n"
     ]
    }
   ],
   "source": [
    "df_sales.where(isnull(\"CustomerID\"))\\\n",
    ".fillna('NA')\\\n",
    ".show(10)"
   ]
  },
  {
   "cell_type": "code",
   "execution_count": 49,
   "metadata": {},
   "outputs": [
    {
     "name": "stdout",
     "output_type": "stream",
     "text": [
      "+---------+---------+--------------------+--------+---------------+---------+------------+--------------+\n",
      "|InvoiceNo|StockCode|         Description|Quantity|    InvoiceDate|UnitPrice|  CustomerID|       Country|\n",
      "+---------+---------+--------------------+--------+---------------+---------+------------+--------------+\n",
      "|   536414|    22139|                null|      56|12/1/2010 11:52|        0|NotAVailable|United Kingdom|\n",
      "|   536544|    21773|DECORATIVE ROSE B...|       1|12/1/2010 14:32|     2.51|NotAVailable|United Kingdom|\n",
      "|   536544|    21774|DECORATIVE CATS B...|       2|12/1/2010 14:32|     2.51|NotAVailable|United Kingdom|\n",
      "|   536544|    21786|  POLKADOT RAIN HAT |       4|12/1/2010 14:32|     0.85|NotAVailable|United Kingdom|\n",
      "|   536544|    21787|RAIN PONCHO RETRO...|       2|12/1/2010 14:32|     1.66|NotAVailable|United Kingdom|\n",
      "|   536544|    21790|  VINTAGE SNAP CARDS|       9|12/1/2010 14:32|     1.66|NotAVailable|United Kingdom|\n",
      "|   536544|    21791|VINTAGE HEADS AND...|       2|12/1/2010 14:32|     2.51|NotAVailable|United Kingdom|\n",
      "|   536544|    21801|CHRISTMAS TREE DE...|      10|12/1/2010 14:32|     0.43|NotAVailable|United Kingdom|\n",
      "|   536544|    21802|CHRISTMAS TREE HE...|       9|12/1/2010 14:32|     0.43|NotAVailable|United Kingdom|\n",
      "|   536544|    21803|CHRISTMAS TREE ST...|      11|12/1/2010 14:32|     0.43|NotAVailable|United Kingdom|\n",
      "+---------+---------+--------------------+--------+---------------+---------+------------+--------------+\n",
      "only showing top 10 rows\n",
      "\n"
     ]
    }
   ],
   "source": [
    "df_sales.where(isnull(\"CustomerID\"))\\\n",
    ".fillna({'CustomerID' : 'NotAVailable'})\\\n",
    ".show(10)"
   ]
  },
  {
   "cell_type": "code",
   "execution_count": 52,
   "metadata": {},
   "outputs": [
    {
     "name": "stdout",
     "output_type": "stream",
     "text": [
      "+---------+---------+--------------------+--------+----------------+---------+----------+--------------+\n",
      "|InvoiceNo|StockCode|         Description|Quantity|     InvoiceDate|UnitPrice|CustomerID|       Country|\n",
      "+---------+---------+--------------------+--------+----------------+---------+----------+--------------+\n",
      "|   536437|    17021|NAMASTE SWAGAT IN...|     600| 12/1/2010 12:12|     0.24|     13694|United Kingdom|\n",
      "|   536736|    22616|PACK OF 12 LONDON...|     600| 12/2/2010 12:59|     0.29|     17381|United Kingdom|\n",
      "|   536809|    84950|ASSORTED COLOUR T...|    1824| 12/2/2010 16:48|     0.55|     15299|United Kingdom|\n",
      "|   536830|    84077|WORLD WAR 2 GLIDE...|    2880| 12/2/2010 17:38|     0.18|     16754|United Kingdom|\n",
      "|   536830|    21915|RED  HARMONICA IN...|    1400| 12/2/2010 17:38|     1.06|     16754|United Kingdom|\n",
      "|   536890|   17084R|ASSORTED INCENSE ...|    1440| 12/3/2010 11:48|     0.16|     14156|          EIRE|\n",
      "|   537214|    17003| BROCADE RING PURSE |     720| 12/5/2010 15:35|     0.16|     16422|United Kingdom|\n",
      "|   537657|    22189|CREAM HEART CARD ...|     972| 12/7/2010 16:42|     2.31|     18102|United Kingdom|\n",
      "|   537657|    22188|BLACK HEART CARD ...|     972| 12/7/2010 16:42|     2.31|     18102|United Kingdom|\n",
      "|   537659|    22189|CREAM HEART CARD ...|    1008| 12/7/2010 16:43|     2.31|     18102|United Kingdom|\n",
      "|   537659|    22188|BLACK HEART CARD ...|    1008| 12/7/2010 16:43|     2.31|     18102|United Kingdom|\n",
      "|   537659|    21623|VINTAGE UNION JAC...|     600| 12/7/2010 16:43|     6.38|     18102|United Kingdom|\n",
      "|   537659|    82484|WOOD BLACK BOARD ...|     600| 12/7/2010 16:43|     4.78|     18102|United Kingdom|\n",
      "|   537841|    16014|SMALL CHINESE STY...|    1000| 12/8/2010 15:10|     0.32|     13848|United Kingdom|\n",
      "|   537899|    22328|ROUND SNACK BOXES...|    1488| 12/9/2010 10:44|     2.55|     12755|         Japan|\n",
      "|   537981|    22492|MINI PAINT SET VI...|    1394| 12/9/2010 11:35|     0.55|     17857|United Kingdom|\n",
      "|   538420|    17096|ASSORTED LAQUERED...|    1728|12/12/2010 12:03|     0.17|     12875|United Kingdom|\n",
      "|   538991|    20668|DISCO BALL CHRIST...|     576|12/15/2010 11:53|      0.1|     17511|United Kingdom|\n",
      "|   539101|    22693|GROW A FLYTRAP OR...|    2400|12/16/2010 10:35|     0.94|     16029|United Kingdom|\n",
      "|   539338|    84077|WORLD WAR 2 GLIDE...|     576|12/17/2010 10:54|     0.29|     17404|        Sweden|\n",
      "+---------+---------+--------------------+--------+----------------+---------+----------+--------------+\n",
      "only showing top 20 rows\n",
      "\n"
     ]
    }
   ],
   "source": [
    "df_sales.filter(df_sales.Quantity > 500).show()"
   ]
  },
  {
   "cell_type": "code",
   "execution_count": 54,
   "metadata": {},
   "outputs": [
    {
     "data": {
      "text/plain": [
       "Row(InvoiceNo='536365', StockCode='85123A', Description='WHITE HANGING HEART T-LIGHT HOLDER', Quantity='6', InvoiceDate='12/1/2010 8:26', UnitPrice='2.55', CustomerID='17850', Country='United Kingdom')"
      ]
     },
     "execution_count": 54,
     "metadata": {},
     "output_type": "execute_result"
    }
   ],
   "source": [
    "df_sales.first()"
   ]
  },
  {
   "cell_type": "code",
   "execution_count": 57,
   "metadata": {},
   "outputs": [
    {
     "data": {
      "text/plain": [
       "Row(InvoiceNo='574293', StockCode='85123A', Description='WHITE HANGING HEART T-LIGHT HOLDER', Quantity='992', InvoiceDate='11/3/2011 15:32', UnitPrice='3.2', CustomerID='17450', Country='United Kingdom')"
      ]
     },
     "execution_count": 57,
     "metadata": {},
     "output_type": "execute_result"
    }
   ],
   "source": [
    "df_sales.orderBy(desc_nulls_last(\"Quantity\")).first()"
   ]
  },
  {
   "cell_type": "code",
   "execution_count": 59,
   "metadata": {},
   "outputs": [],
   "source": [
    "def f(person):\n",
    "    print(person.name)"
   ]
  },
  {
   "cell_type": "code",
   "execution_count": 60,
   "metadata": {},
   "outputs": [],
   "source": [
    "person.foreach(f)"
   ]
  },
  {
   "cell_type": "code",
   "execution_count": 61,
   "metadata": {},
   "outputs": [],
   "source": [
    "def f(people):\n",
    "    for person in people:\n",
    "        print(person.name)"
   ]
  },
  {
   "cell_type": "code",
   "execution_count": 62,
   "metadata": {},
   "outputs": [],
   "source": [
    "person.foreachPartition(f)"
   ]
  },
  {
   "cell_type": "code",
   "execution_count": 77,
   "metadata": {},
   "outputs": [
    {
     "name": "stdout",
     "output_type": "stream",
     "text": [
      "+--------------------------------------------------------------------------------------------------------------------------------------------------------------------------------------------------------------------------------------------------------------------------------------------------------------------------------------------------------------------------------------------------+-----------------------------------------------------------------------------------------------------------------------------------------------------------------------------------------------------------------------------------------------------------------+\n",
      "|Country_freqItems                                                                                                                                                                                                                                                                                                                                                                                 |StockCode_freqItems                                                                                                                                                                                                                                              |\n",
      "+--------------------------------------------------------------------------------------------------------------------------------------------------------------------------------------------------------------------------------------------------------------------------------------------------------------------------------------------------------------------------------------------------+-----------------------------------------------------------------------------------------------------------------------------------------------------------------------------------------------------------------------------------------------------------------+\n",
      "|[Saudi Arabia, Brazil, RSA, Austria, Canada, Australia, Switzerland, Belgium, Unspecified, Norway, Channel Islands, Germany, Malta, France, Cyprus, Italy, Czech Republic, Poland, Denmark, Bahrain, Portugal, Greece, United Arab Emirates, Sweden, Iceland, Netherlands, Lithuania, Lebanon, Spain, Hong Kong, Israel, European Community, United Kingdom, Singapore, Japan, Finland, USA, EIRE]|[20728, 85038, 23201, 22727, 84997B, 22301, 20727, 22436, 22294, 22996, 22502, 22078, 85049D, 22561, 22384, 21790, 21212, 23002, 22423, 23308, 20969, 22411, 23005, 22900, 46000S, 22383, 21559, 46000M, 22300, 22726, 22662, 22089, 22080, 23238, 20725, 85123A]|\n",
      "+--------------------------------------------------------------------------------------------------------------------------------------------------------------------------------------------------------------------------------------------------------------------------------------------------------------------------------------------------------------------------------------------------+-----------------------------------------------------------------------------------------------------------------------------------------------------------------------------------------------------------------------------------------------------------------+\n",
      "\n"
     ]
    }
   ],
   "source": [
    "df_sales.freqItems(['Country','StockCode'],0.01).show(truncate=False)"
   ]
  },
  {
   "cell_type": "code",
   "execution_count": 82,
   "metadata": {},
   "outputs": [
    {
     "name": "stdout",
     "output_type": "stream",
     "text": [
      "+---------+--------------+-------------+\n",
      "|StockCode|max(UnitPrice)|sum(Quantity)|\n",
      "+---------+--------------+-------------+\n",
      "|    16016|          0.85|       1273.0|\n",
      "|   16162L|          0.65|         -4.0|\n",
      "|   18094C|          2.51|        125.0|\n",
      "|   18097C|          5.06|        407.0|\n",
      "|    20617|          4.21|         93.0|\n",
      "|    20661|          5.79|         44.0|\n",
      "|    20664|          2.95|         41.0|\n",
      "|    20671|          1.25|        -12.0|\n",
      "|    20821|          4.95|         14.0|\n",
      "|    20826|          2.12|        107.0|\n",
      "|    20839|          9.32|        495.0|\n",
      "|    20901|          6.35|         18.0|\n",
      "|    20903|          6.35|         49.0|\n",
      "|    20966|          2.51|        526.0|\n",
      "|    20975|          1.28|       6316.0|\n",
      "|    21027|          2.51|        153.0|\n",
      "|    21042|          5.95|        329.0|\n",
      "|    21112|          5.91|       1359.0|\n",
      "|    21215|          2.13|       1089.0|\n",
      "|    21219|          2.51|        448.0|\n",
      "+---------+--------------+-------------+\n",
      "only showing top 20 rows\n",
      "\n"
     ]
    }
   ],
   "source": [
    "df_sales.groupBy(\"StockCode\").agg({'Quantity':'sum','UnitPrice':'max'}).show()"
   ]
  },
  {
   "cell_type": "code",
   "execution_count": 83,
   "metadata": {},
   "outputs": [
    {
     "data": {
      "text/plain": [
       "[Row(InvoiceNo='536365', StockCode='85123A', Description='WHITE HANGING HEART T-LIGHT HOLDER', Quantity='6', InvoiceDate='12/1/2010 8:26', UnitPrice='2.55', CustomerID='17850', Country='United Kingdom'),\n",
       " Row(InvoiceNo='536365', StockCode='71053', Description='WHITE METAL LANTERN', Quantity='6', InvoiceDate='12/1/2010 8:26', UnitPrice='3.39', CustomerID='17850', Country='United Kingdom'),\n",
       " Row(InvoiceNo='536365', StockCode='84406B', Description='CREAM CUPID HEARTS COAT HANGER', Quantity='8', InvoiceDate='12/1/2010 8:26', UnitPrice='2.75', CustomerID='17850', Country='United Kingdom'),\n",
       " Row(InvoiceNo='536365', StockCode='84029G', Description='KNITTED UNION FLAG HOT WATER BOTTLE', Quantity='6', InvoiceDate='12/1/2010 8:26', UnitPrice='3.39', CustomerID='17850', Country='United Kingdom'),\n",
       " Row(InvoiceNo='536365', StockCode='84029E', Description='RED WOOLLY HOTTIE WHITE HEART.', Quantity='6', InvoiceDate='12/1/2010 8:26', UnitPrice='3.39', CustomerID='17850', Country='United Kingdom'),\n",
       " Row(InvoiceNo='536365', StockCode='22752', Description='SET 7 BABUSHKA NESTING BOXES', Quantity='2', InvoiceDate='12/1/2010 8:26', UnitPrice='7.65', CustomerID='17850', Country='United Kingdom'),\n",
       " Row(InvoiceNo='536365', StockCode='21730', Description='GLASS STAR FROSTED T-LIGHT HOLDER', Quantity='6', InvoiceDate='12/1/2010 8:26', UnitPrice='4.25', CustomerID='17850', Country='United Kingdom'),\n",
       " Row(InvoiceNo='536366', StockCode='22633', Description='HAND WARMER UNION JACK', Quantity='6', InvoiceDate='12/1/2010 8:28', UnitPrice='1.85', CustomerID='17850', Country='United Kingdom'),\n",
       " Row(InvoiceNo='536366', StockCode='22632', Description='HAND WARMER RED POLKA DOT', Quantity='6', InvoiceDate='12/1/2010 8:28', UnitPrice='1.85', CustomerID='17850', Country='United Kingdom'),\n",
       " Row(InvoiceNo='536367', StockCode='84879', Description='ASSORTED COLOUR BIRD ORNAMENT', Quantity='32', InvoiceDate='12/1/2010 8:34', UnitPrice='1.69', CustomerID='13047', Country='United Kingdom')]"
      ]
     },
     "execution_count": 83,
     "metadata": {},
     "output_type": "execute_result"
    }
   ],
   "source": [
    "df_sales.head(10)"
   ]
  },
  {
   "cell_type": "code",
   "execution_count": 88,
   "metadata": {},
   "outputs": [
    {
     "name": "stdout",
     "output_type": "stream",
     "text": [
      "== Physical Plan ==\n",
      "BroadcastNestedLoopJoin BuildRight, Cross\n",
      ":- *(1) Project [_1#59L AS id#67L, _2#60 AS name#68, _3#61L AS graduate_program#69L, _4#62 AS spark_status#70]\n",
      ":  +- Scan ExistingRDD[_1#59L,_2#60,_3#61L,_4#62]\n",
      "+- BroadcastExchange IdentityBroadcastMode\n",
      "   +- *(2) Project [_1#75L AS graduate_program#83L, _2#76 AS degree#84, _3#77 AS department#85, _4#78 AS school#86]\n",
      "      +- Scan ExistingRDD[_1#75L,_2#76,_3#77,_4#78]\n"
     ]
    }
   ],
   "source": [
    "person.crossJoin(graduateProgram.hint(\"Broadcast\")).explain()"
   ]
  },
  {
   "cell_type": "code",
   "execution_count": 89,
   "metadata": {},
   "outputs": [],
   "source": [
    "df1 = spark.createDataFrame([(\"a\", 1), (\"a\", 1), (\"a\", 1), (\"a\", 2), (\"b\",  3), (\"c\", 4)], [\"C1\", \"C2\"])\n",
    "df2 = spark.createDataFrame([(\"a\", 1), (\"b\", 3)], [\"C1\", \"C2\"])"
   ]
  },
  {
   "cell_type": "code",
   "execution_count": 91,
   "metadata": {},
   "outputs": [
    {
     "name": "stdout",
     "output_type": "stream",
     "text": [
      "+---+---+\n",
      "| C1| C2|\n",
      "+---+---+\n",
      "|  b|  3|\n",
      "|  a|  1|\n",
      "+---+---+\n",
      "\n"
     ]
    }
   ],
   "source": [
    "df1.intersect(df2).show()"
   ]
  },
  {
   "cell_type": "code",
   "execution_count": 92,
   "metadata": {},
   "outputs": [
    {
     "name": "stdout",
     "output_type": "stream",
     "text": [
      "+---+---+\n",
      "| C1| C2|\n",
      "+---+---+\n",
      "|  b|  3|\n",
      "|  a|  1|\n",
      "+---+---+\n",
      "\n"
     ]
    }
   ],
   "source": [
    "df1.intersectAll(df2).show()"
   ]
  },
  {
   "cell_type": "code",
   "execution_count": 273,
   "metadata": {},
   "outputs": [
    {
     "name": "stdout",
     "output_type": "stream",
     "text": [
      "+---+---+\n",
      "| C1| C2|\n",
      "+---+---+\n",
      "|  c|  4|\n",
      "|  a|  2|\n",
      "+---+---+\n",
      "\n"
     ]
    }
   ],
   "source": [
    "df1.subtract(df2).show()"
   ]
  },
  {
   "cell_type": "code",
   "execution_count": 287,
   "metadata": {},
   "outputs": [
    {
     "name": "stdout",
     "output_type": "stream",
     "text": [
      "+---+---+\n",
      "| C1| C2|\n",
      "+---+---+\n",
      "|  a|  1|\n",
      "|  a|  1|\n",
      "|  a|  1|\n",
      "|  a|  2|\n",
      "|  b|  3|\n",
      "|  c|  4|\n",
      "|  a|  1|\n",
      "|  b|  3|\n",
      "+---+---+\n",
      "\n"
     ]
    }
   ],
   "source": [
    "df1.unionAll(df2).show()"
   ]
  },
  {
   "cell_type": "code",
   "execution_count": 288,
   "metadata": {},
   "outputs": [
    {
     "name": "stdout",
     "output_type": "stream",
     "text": [
      "+---+---+\n",
      "| C1| C2|\n",
      "+---+---+\n",
      "|  a|  1|\n",
      "|  a|  1|\n",
      "|  a|  1|\n",
      "|  a|  2|\n",
      "|  b|  3|\n",
      "|  c|  4|\n",
      "|  a|  1|\n",
      "|  b|  3|\n",
      "+---+---+\n",
      "\n"
     ]
    }
   ],
   "source": [
    "df1.union(df2).show()"
   ]
  },
  {
   "cell_type": "code",
   "execution_count": 289,
   "metadata": {},
   "outputs": [
    {
     "name": "stdout",
     "output_type": "stream",
     "text": [
      "+----+----+----+\n",
      "|col0|col1|col2|\n",
      "+----+----+----+\n",
      "|   1|   2|   3|\n",
      "|   6|   4|   5|\n",
      "+----+----+----+\n",
      "\n"
     ]
    }
   ],
   "source": [
    "df1 = spark.createDataFrame([[1, 2, 3]], [\"col0\", \"col1\", \"col2\"])\n",
    "df2 = spark.createDataFrame([[4, 5, 6]], [\"col1\", \"col2\", \"col0\"])\n",
    "df1.unionByName(df2).show()\n",
    "\n",
    "#Column position is different in both dataframes"
   ]
  },
  {
   "cell_type": "code",
   "execution_count": 95,
   "metadata": {},
   "outputs": [
    {
     "data": {
      "text/plain": [
       "False"
      ]
     },
     "execution_count": 95,
     "metadata": {},
     "output_type": "execute_result"
    }
   ],
   "source": [
    "person.isLocal()"
   ]
  },
  {
   "cell_type": "code",
   "execution_count": 122,
   "metadata": {},
   "outputs": [
    {
     "name": "stdout",
     "output_type": "stream",
     "text": [
      "+--------------+\n",
      "|   InvoiceDate|\n",
      "+--------------+\n",
      "|12/1/2010 8:26|\n",
      "|12/1/2010 8:26|\n",
      "|12/1/2010 8:26|\n",
      "|12/1/2010 8:26|\n",
      "|12/1/2010 8:26|\n",
      "|12/1/2010 8:26|\n",
      "|12/1/2010 8:26|\n",
      "|12/1/2010 8:28|\n",
      "|12/1/2010 8:28|\n",
      "|12/1/2010 8:34|\n",
      "|12/1/2010 8:34|\n",
      "|12/1/2010 8:34|\n",
      "|12/1/2010 8:34|\n",
      "|12/1/2010 8:34|\n",
      "|12/1/2010 8:34|\n",
      "|12/1/2010 8:34|\n",
      "|12/1/2010 8:34|\n",
      "|12/1/2010 8:34|\n",
      "|12/1/2010 8:34|\n",
      "|12/1/2010 8:34|\n",
      "+--------------+\n",
      "only showing top 20 rows\n",
      "\n"
     ]
    }
   ],
   "source": [
    "df_sales.select(\"InvoiceDate\").show()"
   ]
  },
  {
   "cell_type": "code",
   "execution_count": 134,
   "metadata": {},
   "outputs": [
    {
     "name": "stdout",
     "output_type": "stream",
     "text": [
      "+----------------------------------------------+\n",
      "|year(to_date(`InvoiceDate`, 'MM/d/yyyy H:mm'))|\n",
      "+----------------------------------------------+\n",
      "|                                          2010|\n",
      "|                                          2010|\n",
      "|                                          2010|\n",
      "|                                          2010|\n",
      "|                                          2010|\n",
      "|                                          2010|\n",
      "|                                          2010|\n",
      "|                                          2010|\n",
      "|                                          2010|\n",
      "|                                          2010|\n",
      "|                                          2010|\n",
      "|                                          2010|\n",
      "|                                          2010|\n",
      "|                                          2010|\n",
      "|                                          2010|\n",
      "|                                          2010|\n",
      "|                                          2010|\n",
      "|                                          2010|\n",
      "|                                          2010|\n",
      "|                                          2010|\n",
      "+----------------------------------------------+\n",
      "only showing top 20 rows\n",
      "\n"
     ]
    }
   ],
   "source": [
    "df_sales.select(year(to_date(\"InvoiceDate\",'MM/d/yyyy H:mm'))).show()"
   ]
  },
  {
   "cell_type": "code",
   "execution_count": 135,
   "metadata": {},
   "outputs": [],
   "source": [
    "df_s1 = df_sales.groupBy(\"Country\",\"StockCode\",year(to_date(\"InvoiceDate\",'MM/d/yyyy H:mm')).alias(\"INV_YEAR\")).agg({'Quantity':'sum','UnitPrice':'max'})\\\n",
    ".withColumnRenamed(\"max(UnitPrice)\",\"Max_UP\")\\\n",
    ".withColumnRenamed(\"sum(Quantity)\",\"Tot_Qty\")"
   ]
  },
  {
   "cell_type": "code",
   "execution_count": 136,
   "metadata": {},
   "outputs": [],
   "source": [
    "df_s2 = df_sales.groupBy(\"Country\",\"StockCode\").agg({'Quantity':'sum','UnitPrice':'max'})\\\n",
    ".withColumnRenamed(\"max(UnitPrice)\",\"Max_UP\")\\\n",
    ".withColumnRenamed(\"sum(Quantity)\",\"Tot_Qty\")"
   ]
  },
  {
   "cell_type": "code",
   "execution_count": 140,
   "metadata": {},
   "outputs": [
    {
     "data": {
      "text/plain": [
       "19839"
      ]
     },
     "execution_count": 140,
     "metadata": {},
     "output_type": "execute_result"
    }
   ],
   "source": [
    "df_s2.count()"
   ]
  },
  {
   "cell_type": "code",
   "execution_count": 144,
   "metadata": {},
   "outputs": [],
   "source": [
    "join_s1_s2 = [df_s1['Country']==df_s2['Country'],df_s1['StockCode']==df_s2['StockCode'],df_s1['Tot_Qty']< df_s2['Tot_Qty'] ]"
   ]
  },
  {
   "cell_type": "code",
   "execution_count": 145,
   "metadata": {},
   "outputs": [
    {
     "name": "stdout",
     "output_type": "stream",
     "text": [
      "+---------------+---------+--------+------+-------+---------------+---------+------+-------+\n",
      "|        Country|StockCode|INV_YEAR|Max_UP|Tot_Qty|        Country|StockCode|Max_UP|Tot_Qty|\n",
      "+---------------+---------+--------+------+-------+---------------+---------+------+-------+\n",
      "|      Australia|    22193|    2010|   8.5|    2.0|      Australia|    22193|   8.5|   22.0|\n",
      "|      Australia|    22193|    2011|   8.5|   20.0|      Australia|    22193|   8.5|   22.0|\n",
      "|      Australia|    22727|    2010|  3.75|    4.0|      Australia|    22727|  3.75|   78.0|\n",
      "|      Australia|    22727|    2011|  3.75|   74.0|      Australia|    22727|  3.75|   78.0|\n",
      "|        Belgium|    21122|    2010|  1.25|   24.0|        Belgium|    21122|  1.25|   48.0|\n",
      "|        Belgium|    21122|    2011|  1.25|   24.0|        Belgium|    21122|  1.25|   48.0|\n",
      "|        Belgium|    21976|    2011|  0.55|  264.0|        Belgium|    21976|  0.55|  312.0|\n",
      "|        Belgium|    21976|    2010|  0.55|   48.0|        Belgium|    21976|  0.55|  312.0|\n",
      "|Channel Islands|    22688|    2010|  7.95|    2.0|Channel Islands|    22688|  8.25|    4.0|\n",
      "|Channel Islands|    22688|    2011|  8.25|    2.0|Channel Islands|    22688|  8.25|    4.0|\n",
      "|        Denmark|    22326|    2010|  2.95|   12.0|        Denmark|    22326|  2.95|   54.0|\n",
      "|        Denmark|    22326|    2011|  2.95|   42.0|        Denmark|    22326|  2.95|   54.0|\n",
      "|        Denmark|    22729|    2010|  3.75|   12.0|        Denmark|    22729|  3.75|   28.0|\n",
      "|        Denmark|    22729|    2011|  3.75|   16.0|        Denmark|    22729|  3.75|   28.0|\n",
      "|           EIRE|    20750|    2011|  7.95|   14.0|           EIRE|    20750|  7.95|   18.0|\n",
      "|           EIRE|    20750|    2010|  7.95|    4.0|           EIRE|    20750|  7.95|   18.0|\n",
      "|           EIRE|    21257|    2010|  7.95|    4.0|           EIRE|    21257|  7.95|   19.0|\n",
      "|           EIRE|    21257|    2011|  7.95|   15.0|           EIRE|    21257|  7.95|   19.0|\n",
      "|           EIRE|    21912|    2011|  3.75|   80.0|           EIRE|    21912|  3.75|   88.0|\n",
      "|           EIRE|    21912|    2010|  3.75|    8.0|           EIRE|    21912|  3.75|   88.0|\n",
      "+---------------+---------+--------+------+-------+---------------+---------+------+-------+\n",
      "only showing top 20 rows\n",
      "\n"
     ]
    }
   ],
   "source": [
    "df_s1.join(df_s2,join_s1_s2,'INNER').show()"
   ]
  },
  {
   "cell_type": "code",
   "execution_count": 149,
   "metadata": {},
   "outputs": [
    {
     "name": "stdout",
     "output_type": "stream",
     "text": [
      "+---------------+---------+--------+------+-------+------+-------+\n",
      "|        Country|StockCode|INV_YEAR|Max_UP|Tot_Qty|Max_UP|Tot_Qty|\n",
      "+---------------+---------+--------+------+-------+------+-------+\n",
      "|      Australia|    22193|    2010|   8.5|    2.0|   8.5|   22.0|\n",
      "|      Australia|    22193|    2011|   8.5|   20.0|   8.5|   22.0|\n",
      "|      Australia|    22727|    2010|  3.75|    4.0|  3.75|   78.0|\n",
      "|      Australia|    22727|    2011|  3.75|   74.0|  3.75|   78.0|\n",
      "|        Belgium|    21122|    2010|  1.25|   24.0|  1.25|   48.0|\n",
      "|        Belgium|    21122|    2011|  1.25|   24.0|  1.25|   48.0|\n",
      "|        Belgium|    21976|    2011|  0.55|  264.0|  0.55|  312.0|\n",
      "|        Belgium|    21976|    2010|  0.55|   48.0|  0.55|  312.0|\n",
      "|Channel Islands|    22688|    2010|  7.95|    2.0|  8.25|    4.0|\n",
      "|Channel Islands|    22688|    2011|  8.25|    2.0|  8.25|    4.0|\n",
      "|        Denmark|    22326|    2010|  2.95|   12.0|  2.95|   54.0|\n",
      "|        Denmark|    22326|    2011|  2.95|   42.0|  2.95|   54.0|\n",
      "|        Denmark|    22729|    2010|  3.75|   12.0|  3.75|   28.0|\n",
      "|        Denmark|    22729|    2011|  3.75|   16.0|  3.75|   28.0|\n",
      "|           EIRE|    20750|    2011|  7.95|   14.0|  7.95|   18.0|\n",
      "|           EIRE|    20750|    2010|  7.95|    4.0|  7.95|   18.0|\n",
      "|           EIRE|    21257|    2010|  7.95|    4.0|  7.95|   19.0|\n",
      "|           EIRE|    21257|    2011|  7.95|   15.0|  7.95|   19.0|\n",
      "|           EIRE|    21912|    2011|  3.75|   80.0|  3.75|   88.0|\n",
      "|           EIRE|    21912|    2010|  3.75|    8.0|  3.75|   88.0|\n",
      "+---------------+---------+--------+------+-------+------+-------+\n",
      "only showing top 20 rows\n",
      "\n"
     ]
    }
   ],
   "source": [
    "df_s1.join(df_s2,['Country','StockCode'],'inner').where(df_s1.Tot_Qty < df_s2.Tot_Qty).show()"
   ]
  },
  {
   "cell_type": "code",
   "execution_count": 150,
   "metadata": {},
   "outputs": [
    {
     "name": "stdout",
     "output_type": "stream",
     "text": [
      "+---------------+---------+--------+------+-------+------+-------+\n",
      "|        Country|StockCode|INV_YEAR|Max_UP|Tot_Qty|Max_UP|Tot_Qty|\n",
      "+---------------+---------+--------+------+-------+------+-------+\n",
      "|      Australia|    22193|    2010|   8.5|    2.0|   8.5|   22.0|\n",
      "|      Australia|    22193|    2011|   8.5|   20.0|   8.5|   22.0|\n",
      "|      Australia|    22727|    2010|  3.75|    4.0|  3.75|   78.0|\n",
      "|      Australia|    22727|    2011|  3.75|   74.0|  3.75|   78.0|\n",
      "|        Belgium|    21122|    2010|  1.25|   24.0|  1.25|   48.0|\n",
      "|        Belgium|    21122|    2011|  1.25|   24.0|  1.25|   48.0|\n",
      "|        Belgium|    21976|    2011|  0.55|  264.0|  0.55|  312.0|\n",
      "|        Belgium|    21976|    2010|  0.55|   48.0|  0.55|  312.0|\n",
      "|Channel Islands|    22688|    2010|  7.95|    2.0|  8.25|    4.0|\n",
      "|Channel Islands|    22688|    2011|  8.25|    2.0|  8.25|    4.0|\n",
      "|        Denmark|    22326|    2010|  2.95|   12.0|  2.95|   54.0|\n",
      "|        Denmark|    22326|    2011|  2.95|   42.0|  2.95|   54.0|\n",
      "|        Denmark|    22729|    2010|  3.75|   12.0|  3.75|   28.0|\n",
      "|        Denmark|    22729|    2011|  3.75|   16.0|  3.75|   28.0|\n",
      "|           EIRE|    20750|    2011|  7.95|   14.0|  7.95|   18.0|\n",
      "|           EIRE|    20750|    2010|  7.95|    4.0|  7.95|   18.0|\n",
      "|           EIRE|    21257|    2010|  7.95|    4.0|  7.95|   19.0|\n",
      "|           EIRE|    21257|    2011|  7.95|   15.0|  7.95|   19.0|\n",
      "|           EIRE|    21912|    2011|  3.75|   80.0|  3.75|   88.0|\n",
      "|           EIRE|    21912|    2010|  3.75|    8.0|  3.75|   88.0|\n",
      "+---------------+---------+--------+------+-------+------+-------+\n",
      "only showing top 20 rows\n",
      "\n"
     ]
    }
   ],
   "source": [
    "df_s1.join(df_s2,['Country','StockCode']).where(df_s1.Tot_Qty < df_s2.Tot_Qty).show()"
   ]
  },
  {
   "cell_type": "code",
   "execution_count": 152,
   "metadata": {},
   "outputs": [
    {
     "name": "stdout",
     "output_type": "stream",
     "text": [
      "+---------+---------+--------+------+-------+\n",
      "|  Country|StockCode|INV_YEAR|Max_UP|Tot_Qty|\n",
      "+---------+---------+--------+------+-------+\n",
      "|Australia|    20717|    2011|  1.25|   10.0|\n",
      "|Australia|    21194|    2011|  0.65|   12.0|\n",
      "|Australia|    21198|    2011|  1.65|   48.0|\n",
      "|Australia|    21876|    2011|  1.25|   24.0|\n",
      "|Australia|    21922|    2011|  7.95|    2.0|\n",
      "|Australia|    22045|    2011|  0.42|  425.0|\n",
      "|Australia|    22079|    2011|  1.45|  120.0|\n",
      "|Australia|    22333|    2011|  1.65|  320.0|\n",
      "|Australia|    22429|    2011|  4.25|   16.0|\n",
      "|Australia|    22539|    2011|  0.36|  480.0|\n",
      "|Australia|    22576|    2011|  0.85|   32.0|\n",
      "|Australia|    22584|    2011|  2.55|   36.0|\n",
      "|Australia|    22629|    2011|  1.65|  960.0|\n",
      "|Australia|    22725|    2011|  3.39|   50.0|\n",
      "|Australia|    22946|    2011| 12.75|   60.0|\n",
      "|Australia|    22980|    2011|  1.45|  240.0|\n",
      "|Australia|    23100|    2011|  1.25|   12.0|\n",
      "|Australia|    23297|    2011|  1.65|  264.0|\n",
      "|Australia|    23325|    2011|  1.65|   12.0|\n",
      "|Australia|    23347|    2011|  1.25|   96.0|\n",
      "+---------+---------+--------+------+-------+\n",
      "only showing top 20 rows\n",
      "\n"
     ]
    }
   ],
   "source": [
    "df_s1.sort(\"Country\").show()"
   ]
  },
  {
   "cell_type": "code",
   "execution_count": 155,
   "metadata": {},
   "outputs": [
    {
     "name": "stdout",
     "output_type": "stream",
     "text": [
      "+--------------+------------+--------+------+-------+\n",
      "|       Country|   StockCode|INV_YEAR|Max_UP|Tot_Qty|\n",
      "+--------------+------------+--------+------+-------+\n",
      "|United Kingdom|       23064|    2011| 99.96|  138.0|\n",
      "|United Kingdom|       21473|    2011| 99.96|   26.0|\n",
      "|United Kingdom|         DOT|    2011|   988| 1653.0|\n",
      "|United Kingdom|        CRUK|    2011|987.14|  -16.0|\n",
      "|United Kingdom|           S|    2011| 98.18|  -57.0|\n",
      "|United Kingdom|           M|    2011| 97.35| 3471.0|\n",
      "|United Kingdom|           D|    2011| 97.14|-1183.0|\n",
      "|United Kingdom|BANK CHARGES|    2010|966.92|   -1.0|\n",
      "|United Kingdom|         DOT|    2010|950.99|   54.0|\n",
      "|United Kingdom|           M|    2010|924.59|  191.0|\n",
      "|United Kingdom|      90124C|    2011|  9.98|   11.0|\n",
      "|United Kingdom|      90180B|    2011|  9.98|    5.0|\n",
      "|United Kingdom|      90012A|    2011|  9.98|   -8.0|\n",
      "|United Kingdom|       22839|    2011|  9.98|  270.0|\n",
      "|United Kingdom|       22838|    2011|  9.98|  226.0|\n",
      "|United Kingdom|      90124A|    2011|  9.98|    8.0|\n",
      "|United Kingdom|      90180A|    2011|  9.98|  -16.0|\n",
      "|United Kingdom|       90034|    2011|  9.98|    1.0|\n",
      "|United Kingdom|       90043|    2011|  9.96|    4.0|\n",
      "|United Kingdom|       23127|    2011|  9.96|  663.0|\n",
      "+--------------+------------+--------+------+-------+\n",
      "only showing top 20 rows\n",
      "\n"
     ]
    }
   ],
   "source": [
    "df_s1.sort(col(\"Max_UP\").desc()).show()"
   ]
  },
  {
   "cell_type": "code",
   "execution_count": 159,
   "metadata": {},
   "outputs": [
    {
     "name": "stdout",
     "output_type": "stream",
     "text": [
      "+--------------+------------+--------+------+-------+\n",
      "|       Country|   StockCode|INV_YEAR|Max_UP|Tot_Qty|\n",
      "+--------------+------------+--------+------+-------+\n",
      "|United Kingdom|       23064|    2011| 99.96|  138.0|\n",
      "|United Kingdom|       21473|    2011| 99.96|   26.0|\n",
      "|United Kingdom|         DOT|    2011|   988| 1653.0|\n",
      "|United Kingdom|        CRUK|    2011|987.14|  -16.0|\n",
      "|United Kingdom|           S|    2011| 98.18|  -57.0|\n",
      "|United Kingdom|           M|    2011| 97.35| 3471.0|\n",
      "|United Kingdom|           D|    2011| 97.14|-1183.0|\n",
      "|United Kingdom|BANK CHARGES|    2010|966.92|   -1.0|\n",
      "|United Kingdom|         DOT|    2010|950.99|   54.0|\n",
      "|United Kingdom|           M|    2010|924.59|  191.0|\n",
      "|United Kingdom|      90124C|    2011|  9.98|   11.0|\n",
      "|United Kingdom|       22839|    2011|  9.98|  270.0|\n",
      "|United Kingdom|      90180A|    2011|  9.98|  -16.0|\n",
      "|United Kingdom|      90180B|    2011|  9.98|    5.0|\n",
      "|United Kingdom|       22838|    2011|  9.98|  226.0|\n",
      "|United Kingdom|      90124A|    2011|  9.98|    8.0|\n",
      "|United Kingdom|       90034|    2011|  9.98|    1.0|\n",
      "|United Kingdom|      90012A|    2011|  9.98|   -8.0|\n",
      "|United Kingdom|       22182|    2011|  9.96|  310.0|\n",
      "|United Kingdom|       22444|    2011|  9.96|  390.0|\n",
      "+--------------+------------+--------+------+-------+\n",
      "only showing top 20 rows\n",
      "\n"
     ]
    }
   ],
   "source": [
    "df_s1.sort(col(\"Max_UP\"),ascending = False).show()"
   ]
  },
  {
   "cell_type": "code",
   "execution_count": 160,
   "metadata": {},
   "outputs": [
    {
     "name": "stdout",
     "output_type": "stream",
     "text": [
      "+--------------+------------+--------+------+-------+\n",
      "|       Country|   StockCode|INV_YEAR|Max_UP|Tot_Qty|\n",
      "+--------------+------------+--------+------+-------+\n",
      "|United Kingdom|       23064|    2011| 99.96|  138.0|\n",
      "|United Kingdom|       21473|    2011| 99.96|   26.0|\n",
      "|United Kingdom|         DOT|    2011|   988| 1653.0|\n",
      "|United Kingdom|        CRUK|    2011|987.14|  -16.0|\n",
      "|United Kingdom|           S|    2011| 98.18|  -57.0|\n",
      "|United Kingdom|           M|    2011| 97.35| 3471.0|\n",
      "|United Kingdom|           D|    2011| 97.14|-1183.0|\n",
      "|United Kingdom|BANK CHARGES|    2010|966.92|   -1.0|\n",
      "|United Kingdom|         DOT|    2010|950.99|   54.0|\n",
      "|United Kingdom|           M|    2010|924.59|  191.0|\n",
      "|United Kingdom|      90124C|    2011|  9.98|   11.0|\n",
      "|United Kingdom|       22839|    2011|  9.98|  270.0|\n",
      "|United Kingdom|      90012A|    2011|  9.98|   -8.0|\n",
      "|United Kingdom|       22838|    2011|  9.98|  226.0|\n",
      "|United Kingdom|      90180A|    2011|  9.98|  -16.0|\n",
      "|United Kingdom|      90180B|    2011|  9.98|    5.0|\n",
      "|United Kingdom|      90124A|    2011|  9.98|    8.0|\n",
      "|United Kingdom|       90034|    2011|  9.98|    1.0|\n",
      "|United Kingdom|       22182|    2011|  9.96|  310.0|\n",
      "|United Kingdom|       22444|    2011|  9.96|  390.0|\n",
      "+--------------+------------+--------+------+-------+\n",
      "only showing top 20 rows\n",
      "\n"
     ]
    }
   ],
   "source": [
    "df_s1.sort(desc(\"Max_UP\")).show()"
   ]
  },
  {
   "cell_type": "code",
   "execution_count": 164,
   "metadata": {},
   "outputs": [
    {
     "name": "stdout",
     "output_type": "stream",
     "text": [
      "+--------------+------------+--------+------+-------+\n",
      "|       Country|   StockCode|INV_YEAR|Max_UP|Tot_Qty|\n",
      "+--------------+------------+--------+------+-------+\n",
      "|United Kingdom|       23064|    2011| 99.96|  138.0|\n",
      "|United Kingdom|       21473|    2011| 99.96|   26.0|\n",
      "|United Kingdom|         DOT|    2011|   988| 1653.0|\n",
      "|United Kingdom|        CRUK|    2011|987.14|  -16.0|\n",
      "|United Kingdom|           S|    2011| 98.18|  -57.0|\n",
      "|United Kingdom|           M|    2011| 97.35| 3471.0|\n",
      "|United Kingdom|           D|    2011| 97.14|-1183.0|\n",
      "|United Kingdom|BANK CHARGES|    2010|966.92|   -1.0|\n",
      "|United Kingdom|         DOT|    2010|950.99|   54.0|\n",
      "|United Kingdom|           M|    2010|924.59|  191.0|\n",
      "|United Kingdom|      90124C|    2011|  9.98|   11.0|\n",
      "|United Kingdom|      90180B|    2011|  9.98|    5.0|\n",
      "|United Kingdom|      90012A|    2011|  9.98|   -8.0|\n",
      "|United Kingdom|       22838|    2011|  9.98|  226.0|\n",
      "|United Kingdom|       22839|    2011|  9.98|  270.0|\n",
      "|United Kingdom|      90180A|    2011|  9.98|  -16.0|\n",
      "|United Kingdom|      90124A|    2011|  9.98|    8.0|\n",
      "|United Kingdom|       90034|    2011|  9.98|    1.0|\n",
      "|United Kingdom|       21709|    2011|  9.96|   99.0|\n",
      "|United Kingdom|       22182|    2011|  9.96|  310.0|\n",
      "+--------------+------------+--------+------+-------+\n",
      "only showing top 20 rows\n",
      "\n"
     ]
    }
   ],
   "source": [
    "df_s1.orderBy([\"Max_UP\", \"Country\"], ascending=[0, 1]).show()"
   ]
  },
  {
   "cell_type": "code",
   "execution_count": 179,
   "metadata": {},
   "outputs": [
    {
     "data": {
      "text/plain": [
       "StorageLevel(True, True, False, True, 1)"
      ]
     },
     "execution_count": 179,
     "metadata": {},
     "output_type": "execute_result"
    }
   ],
   "source": [
    "df_s1.cache().storageLevel"
   ]
  },
  {
   "cell_type": "code",
   "execution_count": 180,
   "metadata": {},
   "outputs": [
    {
     "data": {
      "text/plain": [
       "StorageLevel(True, True, False, False, 1)"
      ]
     },
     "execution_count": 180,
     "metadata": {},
     "output_type": "execute_result"
    }
   ],
   "source": [
    "df_s2.persist().storageLevel"
   ]
  },
  {
   "cell_type": "code",
   "execution_count": 184,
   "metadata": {},
   "outputs": [
    {
     "data": {
      "text/plain": [
       "StorageLevel(True, True, False, False, 1)"
      ]
     },
     "execution_count": 184,
     "metadata": {},
     "output_type": "execute_result"
    }
   ],
   "source": [
    "df_s2.persist(StorageLevel.DISK_ONLY).storageLevel\n",
    "\n"
   ]
  },
  {
   "cell_type": "code",
   "execution_count": 194,
   "metadata": {},
   "outputs": [
    {
     "name": "stdout",
     "output_type": "stream",
     "text": [
      "Disk Memory OffHeap Serialized 1x Replicated\n"
     ]
    }
   ],
   "source": [
    "from pyspark import *\n",
    "\n",
    "rdd1 = spark.sparkContext.parallelize([1,2])\n",
    "rdd1.persist( StorageLevel.OFF_HEAP )\n",
    "rdd1.getStorageLevel()\n",
    "print(rdd1.getStorageLevel())"
   ]
  },
  {
   "cell_type": "code",
   "execution_count": 224,
   "metadata": {},
   "outputs": [],
   "source": [
    "df_s1_split = df_s1.randomSplit([0.5,2.0,2.5],seed=20)"
   ]
  },
  {
   "cell_type": "code",
   "execution_count": 225,
   "metadata": {},
   "outputs": [
    {
     "data": {
      "text/plain": [
       "2307"
      ]
     },
     "execution_count": 225,
     "metadata": {},
     "output_type": "execute_result"
    }
   ],
   "source": [
    "df_s1_split[0].count()\n"
   ]
  },
  {
   "cell_type": "code",
   "execution_count": 226,
   "metadata": {},
   "outputs": [
    {
     "data": {
      "text/plain": [
       "9481"
      ]
     },
     "execution_count": 226,
     "metadata": {},
     "output_type": "execute_result"
    }
   ],
   "source": [
    "df_s1_split[1].count()\n"
   ]
  },
  {
   "cell_type": "code",
   "execution_count": 227,
   "metadata": {},
   "outputs": [
    {
     "data": {
      "text/plain": [
       "12070"
      ]
     },
     "execution_count": 227,
     "metadata": {},
     "output_type": "execute_result"
    }
   ],
   "source": [
    "df_s1_split[2].count()"
   ]
  },
  {
   "cell_type": "code",
   "execution_count": 228,
   "metadata": {},
   "outputs": [],
   "source": [
    "df_s2.registerTempTable(\"df_s2\")"
   ]
  },
  {
   "cell_type": "code",
   "execution_count": 231,
   "metadata": {},
   "outputs": [],
   "source": [
    "df_s2_fromTab = spark.sql(\"Select * from df_s2\")"
   ]
  },
  {
   "cell_type": "code",
   "execution_count": 232,
   "metadata": {},
   "outputs": [
    {
     "data": {
      "text/plain": [
       "True"
      ]
     },
     "execution_count": 232,
     "metadata": {},
     "output_type": "execute_result"
    }
   ],
   "source": [
    "sorted(df_s2.collect()) == sorted(df_s2_fromTab.collect())"
   ]
  },
  {
   "cell_type": "code",
   "execution_count": 236,
   "metadata": {},
   "outputs": [
    {
     "data": {
      "text/plain": [
       "StorageLevel(True, True, False, True, 1)"
      ]
     },
     "execution_count": 236,
     "metadata": {},
     "output_type": "execute_result"
    }
   ],
   "source": [
    "df_s1.storageLevel"
   ]
  },
  {
   "cell_type": "code",
   "execution_count": 241,
   "metadata": {},
   "outputs": [
    {
     "name": "stdout",
     "output_type": "stream",
     "text": [
      "+---------+---------+--------------------+--------+---------------+---------+----------+-------+\n",
      "|InvoiceNo|StockCode|         Description|Quantity|    InvoiceDate|UnitPrice|CustomerID|Country|\n",
      "+---------+---------+--------------------+--------+---------------+---------+----------+-------+\n",
      "|   536414|    22139|                null|      56|12/1/2010 11:52|        0|      null|   null|\n",
      "|   536544|    21773|DECORATIVE ROSE B...|       1|12/1/2010 14:32|     2.51|      null|   null|\n",
      "|   536544|    21774|DECORATIVE CATS B...|       2|12/1/2010 14:32|     2.51|      null|   null|\n",
      "|   536544|    21786|  POLKADOT RAIN HAT |       4|12/1/2010 14:32|     0.85|      null|   null|\n",
      "|   536544|    21787|RAIN PONCHO RETRO...|       2|12/1/2010 14:32|     1.66|      null|   null|\n",
      "|   536544|    21790|  VINTAGE SNAP CARDS|       9|12/1/2010 14:32|     1.66|      null|   null|\n",
      "|   536544|    21791|VINTAGE HEADS AND...|       2|12/1/2010 14:32|     2.51|      null|   null|\n",
      "|   536544|    21801|CHRISTMAS TREE DE...|      10|12/1/2010 14:32|     0.43|      null|   null|\n",
      "|   536544|    21802|CHRISTMAS TREE HE...|       9|12/1/2010 14:32|     0.43|      null|   null|\n",
      "|   536544|    21803|CHRISTMAS TREE ST...|      11|12/1/2010 14:32|     0.43|      null|   null|\n",
      "+---------+---------+--------------------+--------+---------------+---------+----------+-------+\n",
      "only showing top 10 rows\n",
      "\n"
     ]
    }
   ],
   "source": [
    "df_sales.where(isnull(\"CustomerID\"))\\\n",
    ".na.replace(\"United Kingdom\",None)\\\n",
    ".show(10)"
   ]
  },
  {
   "cell_type": "code",
   "execution_count": 247,
   "metadata": {},
   "outputs": [
    {
     "name": "stdout",
     "output_type": "stream",
     "text": [
      "+-----------+\n",
      "|    Country|\n",
      "+-----------+\n",
      "|       EIRE|\n",
      "|         FR|\n",
      "|Unspecified|\n",
      "|Switzerland|\n",
      "|   Portugal|\n",
      "|  Hong Kong|\n",
      "|         UK|\n",
      "|     Israel|\n",
      "|    Bahrain|\n",
      "+-----------+\n",
      "\n"
     ]
    }
   ],
   "source": [
    "df_sales.where(isnull(\"CustomerID\"))\\\n",
    ".replace([\"United Kingdom\",\"France\"],[\"UK\",\"FR\"],\"Country\")\\\n",
    ".select(\"Country\").distinct().show()"
   ]
  },
  {
   "cell_type": "code",
   "execution_count": 250,
   "metadata": {},
   "outputs": [
    {
     "data": {
      "text/plain": [
       "StructType(List(StructField(InvoiceNo,StringType,true),StructField(StockCode,StringType,true),StructField(Description,StringType,true),StructField(Quantity,StringType,true),StructField(InvoiceDate,StringType,true),StructField(UnitPrice,StringType,true),StructField(CustomerID,StringType,true),StructField(Country,StringType,true)))"
      ]
     },
     "execution_count": 250,
     "metadata": {},
     "output_type": "execute_result"
    }
   ],
   "source": [
    "df_sales.schema"
   ]
  },
  {
   "cell_type": "code",
   "execution_count": 261,
   "metadata": {},
   "outputs": [
    {
     "data": {
      "text/plain": [
       "StorageLevel(True, True, False, False, 2)"
      ]
     },
     "execution_count": 261,
     "metadata": {},
     "output_type": "execute_result"
    }
   ],
   "source": [
    "df_sales.persist(StorageLevel.DISK_ONLY_2).storageLevel"
   ]
  },
  {
   "cell_type": "code",
   "execution_count": 260,
   "metadata": {},
   "outputs": [
    {
     "data": {
      "text/plain": [
       "StorageLevel(True, True, False, False, 2)"
      ]
     },
     "execution_count": 260,
     "metadata": {},
     "output_type": "execute_result"
    }
   ],
   "source": [
    "df_sales.persist(StorageLevel.MEMORY_AND_DISK_2).storageLevel"
   ]
  },
  {
   "cell_type": "code",
   "execution_count": 259,
   "metadata": {},
   "outputs": [
    {
     "data": {
      "text/plain": [
       "DataFrame[InvoiceNo: string, StockCode: string, Description: string, Quantity: string, InvoiceDate: string, UnitPrice: string, CustomerID: string, Country: string]"
      ]
     },
     "execution_count": 259,
     "metadata": {},
     "output_type": "execute_result"
    }
   ],
   "source": [
    "df_sales.unpersist()"
   ]
  },
  {
   "cell_type": "code",
   "execution_count": 267,
   "metadata": {},
   "outputs": [
    {
     "data": {
      "text/plain": [
       "StorageLevel(True, True, False, True, 1)"
      ]
     },
     "execution_count": 267,
     "metadata": {},
     "output_type": "execute_result"
    }
   ],
   "source": [
    "df_sales.cache().storageLevel"
   ]
  },
  {
   "cell_type": "code",
   "execution_count": 268,
   "metadata": {},
   "outputs": [
    {
     "data": {
      "text/plain": [
       "StorageLevel(True, True, False, True, 1)"
      ]
     },
     "execution_count": 268,
     "metadata": {},
     "output_type": "execute_result"
    }
   ],
   "source": [
    "df_sales.storageLevel"
   ]
  },
  {
   "cell_type": "code",
   "execution_count": 269,
   "metadata": {},
   "outputs": [
    {
     "data": {
      "text/plain": [
       "DataFrame[InvoiceNo: string, StockCode: string, Description: string, Quantity: string, InvoiceDate: string, UnitPrice: string, CustomerID: string, Country: string]"
      ]
     },
     "execution_count": 269,
     "metadata": {},
     "output_type": "execute_result"
    }
   ],
   "source": [
    "df_sales.unpersist()"
   ]
  },
  {
   "cell_type": "code",
   "execution_count": 275,
   "metadata": {},
   "outputs": [
    {
     "name": "stdout",
     "output_type": "stream",
     "text": [
      "+-------+-----------+------------------+-------------------+------------------+------------------+\n",
      "|summary|    Country|         StockCode|           INV_YEAR|            Max_UP|           Tot_Qty|\n",
      "+-------+-----------+------------------+-------------------+------------------+------------------+\n",
      "|  count|      23858|             23858|              23858|             23858|             23858|\n",
      "|   mean|       null|28092.145126457744| 2010.8084499958086| 5.454532274289545|216.96915080895297|\n",
      "| stddev|       null|17613.811805484405|0.39352902206015156|104.92960870796857|1089.6305980207896|\n",
      "|    min|  Australia|             10002|               2010|                 0|          -14468.0|\n",
      "|    25%|       null|           21908.0|               2011|              1.25|               7.0|\n",
      "|    50%|       null|           22582.0|               2011|               2.1|              22.0|\n",
      "|    75%|       null|           23172.0|               2011|              4.25|              73.0|\n",
      "|    max|Unspecified|                 m|               2011|             99.96|           50459.0|\n",
      "+-------+-----------+------------------+-------------------+------------------+------------------+\n",
      "\n"
     ]
    }
   ],
   "source": [
    "df_s1.summary().show()"
   ]
  },
  {
   "cell_type": "code",
   "execution_count": 276,
   "metadata": {},
   "outputs": [
    {
     "name": "stdout",
     "output_type": "stream",
     "text": [
      "+-------+-----------+------------------+-------------------+------------------+------------------+\n",
      "|summary|    Country|         StockCode|           INV_YEAR|            Max_UP|           Tot_Qty|\n",
      "+-------+-----------+------------------+-------------------+------------------+------------------+\n",
      "|  count|      23858|             23858|              23858|             23858|             23858|\n",
      "|   mean|       null|28092.145126457744| 2010.8084499958086| 5.454532274289545|216.96915080895297|\n",
      "| stddev|       null|17613.811805484405|0.39352902206015156|104.92960870796857|1089.6305980207896|\n",
      "|    min|  Australia|             10002|               2010|                 0|          -14468.0|\n",
      "|    max|Unspecified|                 m|               2011|             99.96|           50459.0|\n",
      "+-------+-----------+------------------+-------------------+------------------+------------------+\n",
      "\n"
     ]
    }
   ],
   "source": [
    "df_s1.describe().show()"
   ]
  },
  {
   "cell_type": "code",
   "execution_count": 280,
   "metadata": {},
   "outputs": [
    {
     "name": "stdout",
     "output_type": "stream",
     "text": [
      "+-------+-----------+\n",
      "|summary|    Country|\n",
      "+-------+-----------+\n",
      "|  count|      23858|\n",
      "|    max|Unspecified|\n",
      "+-------+-----------+\n",
      "\n"
     ]
    }
   ],
   "source": [
    "df_s1.select(\"Country\").summary(\"count\",\"max\")\\\n",
    ".show()"
   ]
  },
  {
   "cell_type": "code",
   "execution_count": 282,
   "metadata": {},
   "outputs": [
    {
     "data": {
      "text/plain": [
       "'{\"Country\":\"Australia\",\"StockCode\":\"20837\",\"INV_YEAR\":2011,\"Max_UP\":\"0.83\",\"Tot_Qty\":12.0}'"
      ]
     },
     "execution_count": 282,
     "metadata": {},
     "output_type": "execute_result"
    }
   ],
   "source": [
    "df_s1.toJSON().first()"
   ]
  },
  {
   "cell_type": "code",
   "execution_count": 284,
   "metadata": {},
   "outputs": [],
   "source": [
    "def f_iter(x):\n",
    "    for i in x:\n",
    "        print(i)"
   ]
  },
  {
   "cell_type": "code",
   "execution_count": 285,
   "metadata": {},
   "outputs": [
    {
     "name": "stdout",
     "output_type": "stream",
     "text": [
      "Row(id=0, name='Bill Chambers', graduate_program=0, spark_status=[100])\n",
      "Row(id=1, name='Matei Zaharia', graduate_program=1, spark_status=[500, 250, 100])\n",
      "Row(id=2, name='Michael Armbrust', graduate_program=1, spark_status=[250, 100])\n"
     ]
    }
   ],
   "source": [
    "f_iter( person.toLocalIterator())"
   ]
  },
  {
   "cell_type": "code",
   "execution_count": 291,
   "metadata": {},
   "outputs": [
    {
     "name": "stdout",
     "output_type": "stream",
     "text": [
      "+--------------------+--------+\n",
      "|             Country|count(1)|\n",
      "+--------------------+--------+\n",
      "|                EIRE|    2235|\n",
      "|                 USA|     163|\n",
      "|             Belgium|     841|\n",
      "|                 RSA|      58|\n",
      "|               Spain|    1147|\n",
      "|         Unspecified|     344|\n",
      "|           Australia|     621|\n",
      "|               Italy|     483|\n",
      "|         Netherlands|     843|\n",
      "|         Switzerland|    1009|\n",
      "|             Austria|     310|\n",
      "|              Canada|     147|\n",
      "|              Cyprus|     526|\n",
      "|           Lithuania|      29|\n",
      "|        Saudi Arabia|       9|\n",
      "|United Arab Emirates|      68|\n",
      "|     Channel Islands|     436|\n",
      "|               Japan|     252|\n",
      "|            Portugal|     773|\n",
      "|           Singapore|     178|\n",
      "+--------------------+--------+\n",
      "only showing top 20 rows\n",
      "\n"
     ]
    }
   ],
   "source": [
    "df_s1.groupBy(\"Country\").agg({\"*\":'count'}).show()"
   ]
  },
  {
   "cell_type": "code",
   "execution_count": 295,
   "metadata": {},
   "outputs": [
    {
     "name": "stdout",
     "output_type": "stream",
     "text": [
      "+--------------------+------------+\n",
      "|             Country|min(Tot_Qty)|\n",
      "+--------------------+------------+\n",
      "|                EIRE|       -12.0|\n",
      "|                 USA|         0.0|\n",
      "|             Belgium|        -3.0|\n",
      "|                 RSA|         1.0|\n",
      "|               Spain|        -3.0|\n",
      "|         Unspecified|         1.0|\n",
      "|           Australia|        -7.0|\n",
      "|               Italy|        -9.0|\n",
      "|         Netherlands|      -480.0|\n",
      "|         Switzerland|         0.0|\n",
      "|             Austria|       -48.0|\n",
      "|              Canada|         1.0|\n",
      "|              Cyprus|         0.0|\n",
      "|           Lithuania|         6.0|\n",
      "|        Saudi Arabia|         1.0|\n",
      "|United Arab Emirates|         1.0|\n",
      "|     Channel Islands|         0.0|\n",
      "|               Japan|      -618.0|\n",
      "|            Portugal|        -6.0|\n",
      "|           Singapore|         0.0|\n",
      "+--------------------+------------+\n",
      "only showing top 20 rows\n",
      "\n"
     ]
    }
   ],
   "source": [
    "df_s1.groupBy(\"Country\").agg(min(df_s1.Tot_Qty)).show()"
   ]
  },
  {
   "cell_type": "code",
   "execution_count": 306,
   "metadata": {},
   "outputs": [
    {
     "name": "stdout",
     "output_type": "stream",
     "text": [
      "+------------------+\n",
      "|      avg(TOT_QTY)|\n",
      "+------------------+\n",
      "|216.96915080895297|\n",
      "+------------------+\n",
      "\n",
      "+------------+\n",
      "|max(TOT_QTY)|\n",
      "+------------+\n",
      "|     50459.0|\n",
      "+------------+\n",
      "\n",
      "+------------+\n",
      "|min(TOT_QTY)|\n",
      "+------------+\n",
      "|    -14468.0|\n",
      "+------------+\n",
      "\n"
     ]
    }
   ],
   "source": [
    "df_s1.groupBy().avg(\"TOT_QTY\").show()\n",
    "df_s1.groupBy().max(\"TOT_QTY\").show()\n",
    "df_s1.groupBy().min(\"TOT_QTY\").show()"
   ]
  },
  {
   "cell_type": "code",
   "execution_count": 303,
   "metadata": {},
   "outputs": [
    {
     "name": "stdout",
     "output_type": "stream",
     "text": [
      "+--------------------+-----+\n",
      "|             Country|count|\n",
      "+--------------------+-----+\n",
      "|                EIRE| 2235|\n",
      "|                 USA|  163|\n",
      "|             Belgium|  841|\n",
      "|                 RSA|   58|\n",
      "|               Spain| 1147|\n",
      "|         Unspecified|  344|\n",
      "|           Australia|  621|\n",
      "|               Italy|  483|\n",
      "|         Netherlands|  843|\n",
      "|         Switzerland| 1009|\n",
      "|             Austria|  310|\n",
      "|              Canada|  147|\n",
      "|              Cyprus|  526|\n",
      "|           Lithuania|   29|\n",
      "|        Saudi Arabia|    9|\n",
      "|United Arab Emirates|   68|\n",
      "|     Channel Islands|  436|\n",
      "|               Japan|  252|\n",
      "|            Portugal|  773|\n",
      "|           Singapore|  178|\n",
      "+--------------------+-----+\n",
      "only showing top 20 rows\n",
      "\n"
     ]
    }
   ],
   "source": [
    "df_s1.groupBy(\"Country\").count().show()"
   ]
  },
  {
   "cell_type": "code",
   "execution_count": 310,
   "metadata": {},
   "outputs": [
    {
     "name": "stdout",
     "output_type": "stream",
     "text": [
      "+---------+---------+-------+-------+-------+------+------+---------------+------+--------------+-------+-----+------------------+-------+------+-------+------+---------+-------+------+-----+-----+-------+---------+-----+-----------+------+------+--------+----+------------+---------+-----+------+-----------+----+--------------------+--------------+-----------+\n",
      "|StockCode|Australia|Austria|Bahrain|Belgium|Brazil|Canada|Channel Islands|Cyprus|Czech Republic|Denmark| EIRE|European Community|Finland|France|Germany|Greece|Hong Kong|Iceland|Israel|Italy|Japan|Lebanon|Lithuania|Malta|Netherlands|Norway|Poland|Portugal| RSA|Saudi Arabia|Singapore|Spain|Sweden|Switzerland| USA|United Arab Emirates|United Kingdom|Unspecified|\n",
      "+---------+---------+-------+-------+-------+------+------+---------------+------+--------------+-------+-----+------------------+-------+------+-------+------+---------+-------+------+-----+-----+-------+---------+-----+-----------+------+------+--------+----+------------+---------+-----+------+-----------+----+--------------------+--------------+-----------+\n",
      "|    21249|     96.0|   null|   null|   12.0|  null|  null|           null|  null|          null|   null| 12.0|              null|   24.0|  54.0|  108.0|  null|      6.0|   null|  30.0| 48.0| null|   null|     null| null|      120.0|  18.0|  null|    null|null|        null|     null| 12.0|  null|       24.0|null|                null|         160.0|       null|\n",
      "|    21932|     15.0|   null|   null|   null|  null|  null|           10.0|  null|          null|   null| 80.0|              null|    5.0|  10.0|   14.0|   5.0|     null|   null|  10.0| null| null|   null|     null| null|      150.0|  null|  null|    63.0|null|        null|     null| 10.0|  null|        5.0|null|                null|        2314.0|       null|\n",
      "|   79191D|     null|   null|   null|   null|  null|  null|           null|  null|          null|   null| null|              null|   null|  null|   null|  null|     null|   null|  null| null| null|   null|     null| null|       null|  null|  null|    null|null|        null|     null| null|  null|       null|null|                null|          23.0|       null|\n",
      "|    21523|     null|   null|   null|   null|  null|  null|            8.0|   2.0|          null|   null|216.0|              null|   null|   2.0|   38.0|  null|     null|   null|  null| null| null|    4.0|     null| null|       null|  null|  null|    null|null|        null|     null| 18.0|  null|        2.0|null|                null|        2951.0|       null|\n",
      "|    21292|     null|   null|   null|   null|  null|  null|           null|  null|          null|   null|400.0|              null|   null|  null|   16.0|  null|     null|   null|  null| null| null|   null|     null| null|       null|  null|  null|    16.0|null|        null|     null| null|  16.0|       null|null|                null|         419.0|       null|\n",
      "|    21989|     96.0|   12.0|   null|   36.0|  null|  null|           24.0|  null|          null|   24.0| null|              null|   null| 264.0|   96.0|  null|     null|   null|  null| 24.0| null|   null|     null| null|      265.0|  null|  null|    null|null|        null|     null| 12.0|  null|       48.0|null|                null|        1511.0|       null|\n",
      "|    22783|     null|   null|   null|   null|  null|  null|            2.0|  null|          null|   null| null|              null|   null|  null|   null|   4.0|     null|   null|  null| null| null|   null|     null| null|       null|  null|   8.0|    null|null|        null|     null| null|  null|       null|null|                null|         451.0|       null|\n",
      "|    22813|     36.0|   12.0|   null|   null|  null|  null|           12.0|  null|          null|   12.0| null|              null|   null|  12.0|  372.0|  null|     null|   null|  null| 12.0| null|   null|     null| null|       96.0|  null|  null|    null|null|        null|     null| null|  null|       24.0|null|                null|        1784.0|       null|\n",
      "|    23484|     null|   null|   null|   null|  null|  null|           null|  null|          null|   null| null|              null|   null|  null|   null|  null|     null|   null|  null| null| null|   null|     null| null|       null|  null|  null|    null|null|        null|     null| null|  null|       null|null|                null|         185.0|       null|\n",
      "|    23264|     null|   12.0|   null|   12.0|  null|  null|           24.0|  null|          null|   null| 72.0|              12.0|   12.0|  36.0|   60.0|  null|     null|   null|  null| null| null|   null|     null| null|       null|  null|  12.0|    12.0|null|        null|     null| 38.0|  null|       null|null|                null|        1663.0|       null|\n",
      "+---------+---------+-------+-------+-------+------+------+---------------+------+--------------+-------+-----+------------------+-------+------+-------+------+---------+-------+------+-----+-----+-------+---------+-----+-----------+------+------+--------+----+------------+---------+-----+------+-----------+----+--------------------+--------------+-----------+\n",
      "only showing top 10 rows\n",
      "\n"
     ]
    }
   ],
   "source": [
    "df_s1.groupBy(\"StockCode\").pivot(\"Country\").sum(\"TOT_QTY\").show(10)"
   ]
  },
  {
   "cell_type": "code",
   "execution_count": 309,
   "metadata": {},
   "outputs": [
    {
     "name": "stdout",
     "output_type": "stream",
     "text": [
      "+---------+---------+------+\n",
      "|StockCode|Australia|France|\n",
      "+---------+---------+------+\n",
      "|    21249|     96.0|  54.0|\n",
      "|    21932|     15.0|  10.0|\n",
      "|   79191D|     null|  null|\n",
      "|    21523|     null|   2.0|\n",
      "|    21292|     null|  null|\n",
      "|    21989|     96.0| 264.0|\n",
      "|    22783|     null|  null|\n",
      "|    22813|     36.0|  12.0|\n",
      "|    23484|     null|  null|\n",
      "|    23264|     null|  36.0|\n",
      "+---------+---------+------+\n",
      "only showing top 10 rows\n",
      "\n"
     ]
    }
   ],
   "source": [
    "df_s1.groupBy(\"StockCode\").pivot(\"Country\",['Australia','France']).sum(\"TOT_QTY\").show(10)"
   ]
  },
  {
   "cell_type": "code",
   "execution_count": 320,
   "metadata": {},
   "outputs": [
    {
     "name": "stdout",
     "output_type": "stream",
     "text": [
      "+-----------+---------+--------+------+-------+\n",
      "|    Country|StockCode|INV_YEAR|Max_UP|Tot_Qty|\n",
      "+-----------+---------+--------+------+-------+\n",
      "|Unspecified|    84077|    2011|  0.29|   96.0|\n",
      "|Unspecified|   47021G|    2011|  0.39|   48.0|\n",
      "|Unspecified|    84992|    2011|  0.55|   48.0|\n",
      "|Unspecified|    23076|    2011|  1.25|   48.0|\n",
      "|Unspecified|    22439|    2011|  0.65|   40.0|\n",
      "|Unspecified|    21212|    2011|  0.55|   37.0|\n",
      "|Unspecified|    23310|    2011|  0.42|   36.0|\n",
      "|Unspecified|    23119|    2011|  0.62|   36.0|\n",
      "|Unspecified|    22952|    2011|  0.55|   36.0|\n",
      "|Unspecified|    21891|    2011|  1.45|   33.0|\n",
      "|Unspecified|    11001|    2011|  1.69|   32.0|\n",
      "|Unspecified|    21124|    2011|  1.25|   32.0|\n",
      "|Unspecified|    22555|    2011|  1.65|   30.0|\n",
      "|Unspecified|    22620|    2011|  1.45|   29.0|\n",
      "|Unspecified|    22540|    2011|  0.42|   28.0|\n",
      "|Unspecified|    23309|    2011|  0.55|   27.0|\n",
      "|Unspecified|    21977|    2011|  0.55|   26.0|\n",
      "|Unspecified|    22529|    2011|  0.42|   26.0|\n",
      "|Unspecified|    84991|    2011|  0.55|   26.0|\n",
      "|Unspecified|    21976|    2011|  0.55|   26.0|\n",
      "+-----------+---------+--------+------+-------+\n",
      "only showing top 20 rows\n",
      "\n"
     ]
    }
   ],
   "source": [
    "df_s1.orderBy(desc(\"Country\"),col(\"Tot_Qty\").desc()).show()"
   ]
  },
  {
   "cell_type": "code",
   "execution_count": 323,
   "metadata": {},
   "outputs": [
    {
     "name": "stdout",
     "output_type": "stream",
     "text": [
      "+---------+-------+-------------------------------------+\n",
      "|  Country|Tot_Qty|((Tot_Qty >= 20) AND (Tot_Qty <= 40))|\n",
      "+---------+-------+-------------------------------------+\n",
      "|Australia|   12.0|                                false|\n",
      "|Australia|  252.0|                                false|\n",
      "|Australia|   48.0|                                false|\n",
      "|Australia|  168.0|                                false|\n",
      "|Australia|  110.0|                                false|\n",
      "|Australia|  144.0|                                false|\n",
      "|Australia|  111.0|                                false|\n",
      "|Australia|   92.0|                                false|\n",
      "|Australia|   12.0|                                false|\n",
      "|Australia|  160.0|                                false|\n",
      "|Australia|  228.0|                                false|\n",
      "|Australia|  288.0|                                false|\n",
      "|Australia|   20.0|                                 true|\n",
      "|Australia|   36.0|                                 true|\n",
      "|Australia|  120.0|                                false|\n",
      "|Australia|  336.0|                                false|\n",
      "|Australia|  200.0|                                false|\n",
      "|Australia|    6.0|                                false|\n",
      "|Australia|  240.0|                                false|\n",
      "|Australia|  144.0|                                false|\n",
      "+---------+-------+-------------------------------------+\n",
      "only showing top 20 rows\n",
      "\n"
     ]
    }
   ],
   "source": [
    "df_s1.select(\"Country\",col(\"Tot_Qty\"),col(\"Tot_Qty\").between(20,40)).show()"
   ]
  },
  {
   "cell_type": "code",
   "execution_count": 328,
   "metadata": {},
   "outputs": [
    {
     "name": "stdout",
     "output_type": "stream",
     "text": [
      "+------+\n",
      "|Max_UP|\n",
      "+------+\n",
      "|  0.83|\n",
      "|  0.85|\n",
      "|  0.39|\n",
      "|  8.95|\n",
      "|  4.95|\n",
      "|  1.45|\n",
      "|  4.95|\n",
      "|  1.65|\n",
      "|  1.95|\n",
      "|  1.65|\n",
      "|  1.45|\n",
      "|  1.45|\n",
      "|  6.75|\n",
      "|  2.55|\n",
      "|  0.55|\n",
      "|  3.75|\n",
      "|  1.04|\n",
      "|  2.89|\n",
      "|  1.65|\n",
      "|  1.45|\n",
      "+------+\n",
      "only showing top 20 rows\n",
      "\n"
     ]
    }
   ],
   "source": [
    "df_s1.select(col(\"Max_UP\").cast(DoubleType())).show()"
   ]
  },
  {
   "cell_type": "code",
   "execution_count": 330,
   "metadata": {},
   "outputs": [
    {
     "data": {
      "text/plain": [
       "DataFrame[Max_UP: double]"
      ]
     },
     "execution_count": 330,
     "metadata": {},
     "output_type": "execute_result"
    }
   ],
   "source": [
    "df_s1.select(col(\"Max_UP\").cast('double'))"
   ]
  },
  {
   "cell_type": "code",
   "execution_count": 331,
   "metadata": {},
   "outputs": [
    {
     "data": {
      "text/plain": [
       "DataFrame[Max_UP: double]"
      ]
     },
     "execution_count": 331,
     "metadata": {},
     "output_type": "execute_result"
    }
   ],
   "source": [
    "df_s1.select(col(\"Max_UP\").astype('double'))"
   ]
  },
  {
   "cell_type": "code",
   "execution_count": 348,
   "metadata": {},
   "outputs": [
    {
     "name": "stdout",
     "output_type": "stream",
     "text": [
      "+--------------+------------+\n",
      "|       Country|ContainsUnit|\n",
      "+--------------+------------+\n",
      "|United Kingdom|        true|\n",
      "|United Kingdom|        true|\n",
      "|United Kingdom|        true|\n",
      "|United Kingdom|        true|\n",
      "|United Kingdom|        true|\n",
      "|United Kingdom|        true|\n",
      "|United Kingdom|        true|\n",
      "|United Kingdom|        true|\n",
      "|United Kingdom|        true|\n",
      "|United Kingdom|        true|\n",
      "|United Kingdom|        true|\n",
      "|United Kingdom|        true|\n",
      "|United Kingdom|        true|\n",
      "|United Kingdom|        true|\n",
      "|United Kingdom|        true|\n",
      "|United Kingdom|        true|\n",
      "|United Kingdom|        true|\n",
      "|United Kingdom|        true|\n",
      "|United Kingdom|        true|\n",
      "|United Kingdom|        true|\n",
      "+--------------+------------+\n",
      "only showing top 20 rows\n",
      "\n"
     ]
    }
   ],
   "source": [
    "df_s1.select(col(\"Country\"),col(\"Country\").contains('United').alias(\"ContainsUnit\"))\\\n",
    ".where(col(\"ContainsUnit\")==True)\\\n",
    ".show()"
   ]
  },
  {
   "cell_type": "code",
   "execution_count": 349,
   "metadata": {},
   "outputs": [],
   "source": [
    "from pyspark.sql import Row\n",
    "\n",
    "dfA = spark.createDataFrame([Row(id=1, value='foo')\n",
    "                            ,Row(id=2, value=None)\n",
    "                            ])"
   ]
  },
  {
   "cell_type": "code",
   "execution_count": 351,
   "metadata": {},
   "outputs": [
    {
     "name": "stdout",
     "output_type": "stream",
     "text": [
      "+---+-----+\n",
      "| id|value|\n",
      "+---+-----+\n",
      "|  1|  foo|\n",
      "|  2| null|\n",
      "+---+-----+\n",
      "\n"
     ]
    }
   ],
   "source": [
    "dfA.show()"
   ]
  },
  {
   "cell_type": "code",
   "execution_count": 357,
   "metadata": {},
   "outputs": [
    {
     "name": "stdout",
     "output_type": "stream",
     "text": [
      "+-------------+---------------+----------------+\n",
      "|(value = foo)|(value <=> foo)|(value <=> NULL)|\n",
      "+-------------+---------------+----------------+\n",
      "|         true|           true|           false|\n",
      "|         null|          false|            true|\n",
      "+-------------+---------------+----------------+\n",
      "\n"
     ]
    }
   ],
   "source": [
    "dfA.select(col(\"value\") == 'foo'\n",
    "           , col(\"value\").eqNullSafe('foo')\n",
    "           , col(\"value\").eqNullSafe(None)\n",
    "          )\\\n",
    ".show()"
   ]
  },
  {
   "cell_type": "code",
   "execution_count": 359,
   "metadata": {},
   "outputs": [],
   "source": [
    "dfB = spark.createDataFrame([Row(value = 'bar'),\n",
    "                             Row(value = None)])"
   ]
  },
  {
   "cell_type": "code",
   "execution_count": 360,
   "metadata": {},
   "outputs": [
    {
     "name": "stdout",
     "output_type": "stream",
     "text": [
      "+---+-----+-----+\n",
      "| id|value|value|\n",
      "+---+-----+-----+\n",
      "+---+-----+-----+\n",
      "\n"
     ]
    }
   ],
   "source": [
    "dfA.join(dfB, dfA.value == dfB.value).show()"
   ]
  },
  {
   "cell_type": "code",
   "execution_count": 361,
   "metadata": {},
   "outputs": [
    {
     "name": "stdout",
     "output_type": "stream",
     "text": [
      "+---+-----+-----+\n",
      "| id|value|value|\n",
      "+---+-----+-----+\n",
      "|  2| null| null|\n",
      "+---+-----+-----+\n",
      "\n"
     ]
    }
   ],
   "source": [
    "dfA.join(dfB, dfA.value.eqNullSafe(dfB.value)).show()"
   ]
  },
  {
   "cell_type": "code",
   "execution_count": 362,
   "metadata": {},
   "outputs": [],
   "source": [
    "dfC = spark.createDataFrame([Row(id=1, value=float('NaN')),\n",
    "                             Row(id=2, value=42.0),\n",
    "                             Row(id=3, value=None)\n",
    "                            ])"
   ]
  },
  {
   "cell_type": "code",
   "execution_count": 370,
   "metadata": {},
   "outputs": [
    {
     "name": "stdout",
     "output_type": "stream",
     "text": [
      "+----------------+---------------+----------------+\n",
      "|(value <=> NULL)|(value <=> NaN)|(value <=> 42.0)|\n",
      "+----------------+---------------+----------------+\n",
      "|           false|           true|           false|\n",
      "|           false|          false|            true|\n",
      "|            true|          false|           false|\n",
      "+----------------+---------------+----------------+\n",
      "\n"
     ]
    }
   ],
   "source": [
    "dfC.select(col(\"value\").eqNullSafe(None),\n",
    "           col(\"value\").eqNullSafe(float('NaN')),\n",
    "           col(\"value\").eqNullSafe(42.0)\n",
    "    ).show()"
   ]
  },
  {
   "cell_type": "code",
   "execution_count": 377,
   "metadata": {},
   "outputs": [],
   "source": [
    "dfD = spark.createDataFrame([Row(r=Row(a=1, bb=\"b\"))])"
   ]
  },
  {
   "cell_type": "code",
   "execution_count": 379,
   "metadata": {},
   "outputs": [
    {
     "name": "stdout",
     "output_type": "stream",
     "text": [
      "+----+\n",
      "|r.bb|\n",
      "+----+\n",
      "|   b|\n",
      "+----+\n",
      "\n"
     ]
    }
   ],
   "source": [
    "dfD.select( dfD.r.getField(\"bb\")).show()"
   ]
  },
  {
   "cell_type": "code",
   "execution_count": 381,
   "metadata": {},
   "outputs": [
    {
     "name": "stdout",
     "output_type": "stream",
     "text": [
      "+---+\n",
      "|r.a|\n",
      "+---+\n",
      "|  1|\n",
      "+---+\n",
      "\n"
     ]
    }
   ],
   "source": [
    "dfD.select(dfD.r.a).show()"
   ]
  },
  {
   "cell_type": "code",
   "execution_count": 388,
   "metadata": {},
   "outputs": [
    {
     "name": "stdout",
     "output_type": "stream",
     "text": [
      "+---------+---------------+\n",
      "|  Country|SelectedCountry|\n",
      "+---------+---------------+\n",
      "|Australia|           true|\n",
      "|   France|           true|\n",
      "+---------+---------------+\n",
      "\n"
     ]
    }
   ],
   "source": [
    "df_sales.select(col(\"Country\"),col(\"Country\").isin('France','Australia').alias(\"SelectedCountry\"))\\\n",
    ".where(\"SelectedCountry\")\\\n",
    ".distinct()\\\n",
    ".show()"
   ]
  },
  {
   "cell_type": "code",
   "execution_count": 389,
   "metadata": {},
   "outputs": [
    {
     "name": "stdout",
     "output_type": "stream",
     "text": [
      "+-------+---------------+\n",
      "|Country|SelectedCountry|\n",
      "+-------+---------------+\n",
      "| France|           true|\n",
      "+-------+---------------+\n",
      "\n"
     ]
    }
   ],
   "source": [
    "df_sales.select(col(\"Country\"),col(\"Country\").like('Fra%').alias(\"SelectedCountry\"))\\\n",
    ".where(\"SelectedCountry\")\\\n",
    ".distinct()\\\n",
    ".show()"
   ]
  },
  {
   "cell_type": "code",
   "execution_count": 390,
   "metadata": {},
   "outputs": [
    {
     "name": "stdout",
     "output_type": "stream",
     "text": [
      "+-------+---------------+\n",
      "|Country|SelectedCountry|\n",
      "+-------+---------------+\n",
      "| France|           true|\n",
      "+-------+---------------+\n",
      "\n"
     ]
    }
   ],
   "source": [
    "df_sales.select(col(\"Country\"),col(\"Country\").like('Fra%').name(\"SelectedCountry\"))\\\n",
    ".where(\"SelectedCountry\")\\\n",
    ".distinct()\\\n",
    ".show()"
   ]
  },
  {
   "cell_type": "code",
   "execution_count": 393,
   "metadata": {},
   "outputs": [
    {
     "name": "stdout",
     "output_type": "stream",
     "text": [
      "+--------------------+---------------------------------------------------------------+\n",
      "|             Country|CASE WHEN (Country = France) THEN In_France ELSE Out_France END|\n",
      "+--------------------+---------------------------------------------------------------+\n",
      "|              Poland|                                                     Out_France|\n",
      "|      Czech Republic|                                                     Out_France|\n",
      "|           Lithuania|                                                     Out_France|\n",
      "|     Channel Islands|                                                     Out_France|\n",
      "|             Austria|                                                     Out_France|\n",
      "|             Lebanon|                                                     Out_France|\n",
      "|             Germany|                                                     Out_France|\n",
      "|               Italy|                                                     Out_France|\n",
      "|             Denmark|                                                     Out_France|\n",
      "|              Canada|                                                     Out_France|\n",
      "|         Unspecified|                                                     Out_France|\n",
      "|           Australia|                                                     Out_France|\n",
      "|      United Kingdom|                                                     Out_France|\n",
      "|               Spain|                                                     Out_France|\n",
      "|             Iceland|                                                     Out_France|\n",
      "|  European Community|                                                     Out_France|\n",
      "|                 RSA|                                                     Out_France|\n",
      "|              Brazil|                                                     Out_France|\n",
      "|         Netherlands|                                                     Out_France|\n",
      "|                 USA|                                                     Out_France|\n",
      "|              Norway|                                                     Out_France|\n",
      "|               Japan|                                                     Out_France|\n",
      "|              Cyprus|                                                     Out_France|\n",
      "|              Israel|                                                     Out_France|\n",
      "|           Singapore|                                                     Out_France|\n",
      "|              France|                                                      In_France|\n",
      "|                EIRE|                                                     Out_France|\n",
      "|           Hong Kong|                                                     Out_France|\n",
      "|            Portugal|                                                     Out_France|\n",
      "|              Greece|                                                     Out_France|\n",
      "|               Malta|                                                     Out_France|\n",
      "|             Finland|                                                     Out_France|\n",
      "|        Saudi Arabia|                                                     Out_France|\n",
      "|             Belgium|                                                     Out_France|\n",
      "|             Bahrain|                                                     Out_France|\n",
      "|         Switzerland|                                                     Out_France|\n",
      "|              Sweden|                                                     Out_France|\n",
      "|United Arab Emirates|                                                     Out_France|\n",
      "+--------------------+---------------------------------------------------------------+\n",
      "\n"
     ]
    }
   ],
   "source": [
    "df_sales.select(\"Country\", when(col(\"Country\") =='France', 'In_France').otherwise('Out_France'))\\\n",
    ".distinct()\\\n",
    ".show(40)"
   ]
  },
  {
   "cell_type": "code",
   "execution_count": 398,
   "metadata": {},
   "outputs": [],
   "source": [
    "from pyspark.sql import Catalog"
   ]
  },
  {
   "cell_type": "code",
   "execution_count": 406,
   "metadata": {},
   "outputs": [
    {
     "data": {
      "text/plain": [
       "[Database(name='anil_test', description='', locationUri='file:/home/anil/Anil_Created_Docs/01.02.BID_DATA/PySPark/Practice-from-Spark-Definitive-Guide/spark-warehouse/anil_test.db'),\n",
       " Database(name='default', description='Default Hive database', locationUri='file:/home/anil/Anil_Created_Docs/01.02.BID_DATA/PySPark/Practice-from-Spark-Definitive-Guide/spark-warehouse'),\n",
       " Database(name='some_db', description='', locationUri='file:/home/anil/Anil_Created_Docs/01.02.BID_DATA/PySPark/Practice-from-Spark-Definitive-Guide/spark-warehouse/some_db.db')]"
      ]
     },
     "execution_count": 406,
     "metadata": {},
     "output_type": "execute_result"
    }
   ],
   "source": [
    "spark.catalog.listDatabases()"
   ]
  },
  {
   "cell_type": "code",
   "execution_count": 407,
   "metadata": {},
   "outputs": [
    {
     "data": {
      "text/plain": [
       "[Table(name='bucketedfiles', database='default', description=None, tableType='MANAGED', isTemporary=False),\n",
       " Table(name='flight_from_select', database='default', description=None, tableType='MANAGED', isTemporary=False),\n",
       " Table(name='flights', database='default', description=None, tableType='EXTERNAL', isTemporary=False),\n",
       " Table(name='hive_flights', database='default', description=None, tableType='EXTERNAL', isTemporary=False),\n",
       " Table(name='hive_flights_2', database='default', description=None, tableType='EXTERNAL', isTemporary=False),\n",
       " Table(name='just_usa_view', database='default', description=None, tableType='VIEW', isTemporary=False),\n",
       " Table(name='list_view', database='default', description=None, tableType='VIEW', isTemporary=False),\n",
       " Table(name='nested_data', database='default', description=None, tableType='VIEW', isTemporary=False),\n",
       " Table(name='partitioned_flights', database='default', description=None, tableType='MANAGED', isTemporary=False),\n",
       " Table(name='df_s2', database=None, description=None, tableType='TEMPORARY', isTemporary=True)]"
      ]
     },
     "execution_count": 407,
     "metadata": {},
     "output_type": "execute_result"
    }
   ],
   "source": [
    "spark.catalog.listTables()"
   ]
  },
  {
   "cell_type": "code",
   "execution_count": 408,
   "metadata": {},
   "outputs": [
    {
     "data": {
      "text/plain": [
       "<bound method Catalog.listFunctions of <pyspark.sql.catalog.Catalog object at 0x7ff1fdfb2b00>>"
      ]
     },
     "execution_count": 408,
     "metadata": {},
     "output_type": "execute_result"
    }
   ],
   "source": [
    "spark.catalog.listFunctions"
   ]
  },
  {
   "cell_type": "code",
   "execution_count": null,
   "metadata": {},
   "outputs": [],
   "source": []
  }
 ],
 "metadata": {
  "kernelspec": {
   "display_name": "Python 3",
   "language": "python",
   "name": "python3"
  },
  "language_info": {
   "codemirror_mode": {
    "name": "ipython",
    "version": 3
   },
   "file_extension": ".py",
   "mimetype": "text/x-python",
   "name": "python",
   "nbconvert_exporter": "python",
   "pygments_lexer": "ipython3",
   "version": "3.6.10"
  }
 },
 "nbformat": 4,
 "nbformat_minor": 4
}
