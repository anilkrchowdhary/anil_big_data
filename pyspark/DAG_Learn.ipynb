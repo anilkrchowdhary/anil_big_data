{
 "cells": [
  {
   "cell_type": "code",
   "execution_count": 4,
   "metadata": {},
   "outputs": [],
   "source": [
    "filesPath = \"/home/anil/Anil_Documents/01.02.BID_DATA/PySPark/Spark-The-Definitive-Guide-master/data\""
   ]
  },
  {
   "cell_type": "code",
   "execution_count": 5,
   "metadata": {},
   "outputs": [],
   "source": [
    "from pyspark.sql.functions import *\n",
    "from pyspark.sql.types import *"
   ]
  },
  {
   "cell_type": "code",
   "execution_count": 7,
   "metadata": {},
   "outputs": [],
   "source": [
    "df_sales = spark.read.format(\"csv\")\\\n",
    ".option(\"header\",\"true\")\\\n",
    ".option(\"schema\",\"true\")\\\n",
    ".load(filesPath + \"/retail-data/all/online-retail-dataset.csv\")\n",
    "\n"
   ]
  },
  {
   "cell_type": "code",
   "execution_count": 38,
   "metadata": {},
   "outputs": [],
   "source": [
    "spark.conf.set(\"spark.sql.shuffle.partitions\",30)"
   ]
  },
  {
   "cell_type": "code",
   "execution_count": 39,
   "metadata": {},
   "outputs": [
    {
     "name": "stdout",
     "output_type": "stream",
     "text": [
      "+---------+---------+-----------------+--------+---------------+---------+----------+--------------+\n",
      "|InvoiceNo|StockCode|Description      |Quantity|InvoiceDate    |UnitPrice|CustomerID|Country       |\n",
      "+---------+---------+-----------------+--------+---------------+---------+----------+--------------+\n",
      "|554084   |23298    |BUNTING , SPOTTY |3       |5/22/2011 11:52|4.95     |12909     |United Kingdom|\n",
      "|554084   |23298    |SPOTTY BUNTING   |3       |5/22/2011 11:52|4.95     |12909     |United Kingdom|\n",
      "+---------+---------+-----------------+--------+---------------+---------+----------+--------------+\n",
      "\n"
     ]
    }
   ],
   "source": [
    "df_sales.where(expr(\"InvoiceNo = '554084' AND StockCode = '23298' \")).show(truncate=False)"
   ]
  },
  {
   "cell_type": "code",
   "execution_count": 40,
   "metadata": {},
   "outputs": [],
   "source": [
    "df_sales_agg = df_sales.groupBy(\"InvoiceNo\",\"StockCode\",\"Description\",\"CustomerID\",\"Country\")\\\n",
    ".agg(sum(\"Quantity\").alias(\"Sum_Quantity\"), avg(\"UnitPrice\").alias(\"Avg_UnitPrice\"),max(\"InvoiceDate\").alias(\"Max_InvDate\"))"
   ]
  },
  {
   "cell_type": "code",
   "execution_count": 41,
   "metadata": {},
   "outputs": [
    {
     "name": "stdout",
     "output_type": "stream",
     "text": [
      "+---------+---------+-----+\n",
      "|InvoiceNo|StockCode|count|\n",
      "+---------+---------+-----+\n",
      "|   575335|    23203|    2|\n",
      "|   554084|    23298|    2|\n",
      "+---------+---------+-----+\n",
      "\n"
     ]
    }
   ],
   "source": [
    "df_sales_agg.groupBy(\"InvoiceNo\",\"StockCode\").count()\\\n",
    ".where(\"count > 1\")\\\n",
    ".show()"
   ]
  },
  {
   "cell_type": "code",
   "execution_count": 42,
   "metadata": {},
   "outputs": [
    {
     "data": {
      "text/plain": [
       "531227"
      ]
     },
     "execution_count": 42,
     "metadata": {},
     "output_type": "execute_result"
    }
   ],
   "source": [
    "df_sales_agg.count()"
   ]
  },
  {
   "cell_type": "code",
   "execution_count": 43,
   "metadata": {},
   "outputs": [
    {
     "name": "stdout",
     "output_type": "stream",
     "text": [
      "== Physical Plan ==\n",
      "SortAggregate(key=[InvoiceNo#36, StockCode#37, Description#38, CustomerID#42, Country#43], functions=[sum(cast(Quantity#39 as double)), avg(cast(UnitPrice#41 as double)), max(InvoiceDate#40)])\n",
      "+- *(2) Sort [InvoiceNo#36 ASC NULLS FIRST, StockCode#37 ASC NULLS FIRST, Description#38 ASC NULLS FIRST, CustomerID#42 ASC NULLS FIRST, Country#43 ASC NULLS FIRST], false, 0\n",
      "   +- Exchange hashpartitioning(InvoiceNo#36, StockCode#37, Description#38, CustomerID#42, Country#43, 30)\n",
      "      +- SortAggregate(key=[InvoiceNo#36, StockCode#37, Description#38, CustomerID#42, Country#43], functions=[partial_sum(cast(Quantity#39 as double)), partial_avg(cast(UnitPrice#41 as double)), partial_max(InvoiceDate#40)])\n",
      "         +- *(1) Sort [InvoiceNo#36 ASC NULLS FIRST, StockCode#37 ASC NULLS FIRST, Description#38 ASC NULLS FIRST, CustomerID#42 ASC NULLS FIRST, Country#43 ASC NULLS FIRST], false, 0\n",
      "            +- *(1) FileScan csv [InvoiceNo#36,StockCode#37,Description#38,Quantity#39,InvoiceDate#40,UnitPrice#41,CustomerID#42,Country#43] Batched: false, Format: CSV, Location: InMemoryFileIndex[file:/home/anil/Anil_Documents/01.02.BID_DATA/PySPark/Spark-The-Definitive-Guid..., PartitionFilters: [], PushedFilters: [], ReadSchema: struct<InvoiceNo:string,StockCode:string,Description:string,Quantity:string,InvoiceDate:string,Un...\n"
     ]
    }
   ],
   "source": [
    "df_sales_agg.explain()"
   ]
  },
  {
   "cell_type": "code",
   "execution_count": 44,
   "metadata": {},
   "outputs": [
    {
     "data": {
      "text/plain": [
       "30"
      ]
     },
     "execution_count": 44,
     "metadata": {},
     "output_type": "execute_result"
    }
   ],
   "source": [
    "df_sales_agg.rdd.getNumPartitions()"
   ]
  },
  {
   "cell_type": "code",
   "execution_count": 45,
   "metadata": {},
   "outputs": [
    {
     "data": {
      "text/plain": [
       "2"
      ]
     },
     "execution_count": 45,
     "metadata": {},
     "output_type": "execute_result"
    }
   ],
   "source": [
    "df_sales.rdd.getNumPartitions()"
   ]
  },
  {
   "cell_type": "code",
   "execution_count": null,
   "metadata": {},
   "outputs": [],
   "source": []
  }
 ],
 "metadata": {
  "kernelspec": {
   "display_name": "Python 3",
   "language": "python",
   "name": "python3"
  },
  "language_info": {
   "codemirror_mode": {
    "name": "ipython",
    "version": 3
   },
   "file_extension": ".py",
   "mimetype": "text/x-python",
   "name": "python",
   "nbconvert_exporter": "python",
   "pygments_lexer": "ipython3",
   "version": "3.6.10"
  }
 },
 "nbformat": 4,
 "nbformat_minor": 4
}
